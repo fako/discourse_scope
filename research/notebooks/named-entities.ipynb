{
 "cells": [
  {
   "cell_type": "code",
   "execution_count": 1,
   "metadata": {},
   "outputs": [],
   "source": [
    "import json\n",
    "\n",
    "import numpy as np\n",
    "import pandas as pd\n",
    "import spacy"
   ]
  },
  {
   "cell_type": "code",
   "execution_count": 2,
   "metadata": {},
   "outputs": [],
   "source": [
    "nlp = spacy.load(\"en_core_web_sm\")"
   ]
  },
  {
   "cell_type": "code",
   "execution_count": 3,
   "metadata": {},
   "outputs": [],
   "source": [
    "with open(\"../data/death_penalty.json\") as file:\n",
    "    data = json.load(file)"
   ]
  },
  {
   "cell_type": "code",
   "execution_count": 4,
   "metadata": {},
   "outputs": [
    {
     "data": {
      "text/plain": [
       "{'term': ['death penalty\" AND \"innocent',\n",
       "  'death row\" AND \"mistake',\n",
       "  'death penalty\" AND \"mistake',\n",
       "  'death sentence\" AND \"mistake'],\n",
       " 'paragraph_groups': [['Innocence and the Death Penalty: The Increasing Danger of Executing the Innocent | Death Penalty Information Center',\n",
       "   'Innocence',\n",
       "   'Innocence and the Death Penalty: The Increasing Danger of Executing the Innocent',\n",
       "   'State-by-State',\n",
       "   'by Richard C. Dieter, Esq. Executive Director, Death Penalty Information Center']],\n",
       " 'title': 'Innocence and the Death Penalty: The Increasing Danger of ...',\n",
       " 'url': 'https://deathpenaltyinfo.org/node/523',\n",
       " 'content': {'titles': ['Innocence and the Death Penalty: The Increasing Danger of Executing the Innocent | Death Penalty Information Center',\n",
       "   'Innocence',\n",
       "   'Innocence and the Death Penalty: The Increasing Danger of Executing the Innocent',\n",
       "   'State-by-State'],\n",
       "  'language': 'en',\n",
       "  'title': 'Innocence and the Death Penalty: The Increasing Danger of Executing the Innocent | Death Penalty Information Center',\n",
       "  'resourcePath': '/srv/artefacts/datascope/0.9.0/src/data/media/online_discourse/downloads/1/3c/20181215215104563788.523',\n",
       "  'junk': ['Introduction',\n",
       "   'Part I: The Danger of Mistaken Executions',\n",
       "   'Part II: The Cases of Innocence',\n",
       "   'A. Acquittals/Charges Dropped',\n",
       "   'B. Reversals With the Probability of Innocence',\n",
       "   'C. Released from Death Row, Probable Innocence',\n",
       "   'Appendix: 48 Earlier Cases of Innocence References',\n",
       "   'Joseph Burrows (IL), released 1994',\n",
       "   'photo by Loren Santow',\n",
       "   'Perhaps the bleakest fact of all is that the death penalty is imposed not only in a freakish and discriminatory manner, but also in some cases upon defendants who are actually innocent. -Justice William J. Brennan, Jr., 19941',\n",
       "   'Executive Summary',\n",
       "   'The danger that innocent people will be executed because of errors in the criminal justice system is getting worse. A total of 69 people have been released from death row since 1973 after evidence of their innocence emerged. Twenty-one condemned inmates have been released since 1993, including seven from the state of Illinois alone. Many of these cases were discovered not because of the normal appeals process, but rather as a result of new scientific techniques, investigations by journalists, and the dedicated work of expert attorneys, not available to the typical death row inmate.',\n",
       "   \"This report tells the stories of people like Rolando Cruz, released after 10 years on Illinois's death row, despite the fact that another man had confessed to the crime shortly after his conviction; and Ricardo Aldape Guerra, who returned to Mexico after 15 years on Texas's death row because of a prosecution that a federal judge called outrageous and designed to simply achieve another notch on the prosecutor's guns.\",\n",
       "   \"In 1993, the Death Penalty Information Center was asked by Representative Don Edwards, then Chair of the House Judiciary Subcommittee on Civil and Constitutional Rights, to prepare a report on the problem of innocent people on death row. The Center 's report listed 48 defendants who had been released from death row in the prior 20 years because of subsequently discovered evidence of innocence. The growing number of additional cases in the ensuing years has prompted us to issue another report.\",\n",
       "   \"This report particularly looks at the dramatic narrowing of the opportunity to appeal and to raise newly discovered evidence of one's innocence. The federal funding for the death penalty resource centers, which helped discover and vindicate several of the innocent people cited in this report, has been completely withdrawn. Some courts have now taken the position that it is permissible for executions to go forward even in the face of considerable doubt about the defendant's guilt.\",\n",
       "   'The current emphasis on faster executions, less resources for the defense, and an expansion in the number of death cases mean that the execution of innocent people is inevitable. The increasing number of innocent defendants being found on death row is a clear sign that our process for sentencing people to death is fraught with fundamental errors--errors which cannot be remedied once an execution occurs.',\n",
       "   'Perhaps the bleakest fact of all is that the death penalty is imposed not only in a freakish and discriminatory manner, but also in some cases upon defendants who are actually innocent. -Justice William J. Brennan, Jr., 19941',\n",
       "   'Introduction',\n",
       "   'In mid-1993, the Death Penalty Information Center received a request from Rep. Don Edwards, then Chair of the House Judiciary Subcommittee on Civil and Constitutional Rights, to prepare a report on the problem of innocent people on death row. At that time, crime bills were being introduced which involved an expansion of the federal death penalty and a curtailing of the capital appeal process. There also had been a series of highly publicized releases of people from death row in which it had belatedly been discovered that the wrong person had been convicted and sentenced to death.',\n",
       "   'The Center prepared a report for the Subcommittee, basing its research on its own monitoring of this issue and on groundbreaking work done by other researchers, most notably Professors Michael Radelet and Hugo Bedau.2The report listed 48 defendants who had been released from death row in the prior 20 years because of subsequently discovered evidence of innocence. It also explored why such critical mistakes had been made in the legal process, and whether it was likely that such errors would continue.',\n",
       "   \"The report was released as a Staff Report of Rep. Edwards's Subcommittee in October, 19933 and received considerable media coverage and public attention. It continues to be widely cited. The Appendix to this Report contains the original list of 48 cases of people released from death row because of evidence of their innocence.\",\n",
       "   'The Need for a New Report',\n",
       "   'The problem of innocent people facing execution because of errors in the criminal justice process has in no way diminished since 1993. For example, in the summer of 1996, the state of Illinois dropped all charges against four men who had been convicted of a 1978 murder. Two of the men had been sentenced to death. The investigation which led to the discovery that the wrong men had been convicted was conducted by three journalism students who had been assigned the case in class. These releases came on the heels of the release from death row of two other men in Illinois, Rolando Cruz and Alejandro Hernandez. Three former prosecutors have been indicted for obstruction of justice in that case. Although the public may have learned something about these dramatic reversals, they probably have heard little about the continuous string of mistakes in capital cases which throws doubt on the reliability of the entire death penalty process.',\n",
       "   \"There is considerable evidence that the crisis of wrongful death penalty convictions has worsened: the annual average of people released from death row because of their innocence has increased since the first report was prepared, while the opportunity to appeal and to raise newly discovered evidence of one's innocence has recently shrunk dramatically. The federal funding for the death penalty resource centers, which helped discover and vindicate several of the innocent people cited in this report, has been completely withdrawn. Some courts have now taken the position that it is permissible for executions to go forward even in the face of considerable doubt about the defendant's guilt. Yet, recent research indicates that there may be a greater chance of mistaken convictions in death cases than in non-death cases.4\",\n",
       "   \"Part I of this report discusses why so many innocent defendants are being found on our nation's death rows and the prospects for lessening the danger of mistaken executions in the future. Part II lists the new releases from death row and also discusses additional cases which may be added to the list when the cases are concluded.\",\n",
       "   'Part I: The Danger of Mistaken Executions',\n",
       "   'Pace of Innocent Cases Increases',\n",
       "   \"Since Innocence and the Death Penalty: Assessing The Danger of Mistaken Executions was released in 1993, 21 more cases have been added to the list of mistaken convictions in capital cases. Seventeen of those releases occurred after the original report's release, and the other four were cases which would have been included in the original report had the information about these releases been known earlier. In the twenty-one-year span of the first report, there was an average of 2.5 releases of innocent defendants per year from 1973 to 1993. The 17 releases over the past three and a half years represents a pace of 4.8 releases per year, almost twice the pace of the previous report.\",\n",
       "   'For the original 48 cases, it took an average of approximately six and a half years between conviction and eventual release. With the 21 additional cases included in this report, the average time spent on death row before release is now about seven years. This length of time is important because both state and federal legislation in recent years will shorten the length of time death row inmates have before their execution. Currently, the average time between sentencing and execution is eight years5. If that time is cut in half, then the typical innocent defendant on death row will be executed before it is discovered that a fatal mistake has been made.',\n",
       "   'Reasons for Increased Risk of Error',\n",
       "   'The most obvious reason for the increase in the number of innocent cases being discovered among those on death row is the overall expansion of the death penalty. The number of people on death row has been increasing6, and this expansion is likely to continue as states and the federal government broaden the death penalty to new crimes, and new states such as New York and Kansas begin sentencing people to death. With the greater use of the death penalty, there is a greater likelihood of mistakes.',\n",
       "   \"Secondly, the death penalty has become even more political as legislators, prosecutors, and even judges promote the death penalty in their campaigns7. This results in the expansion of death penalty crimes and a shorter and narrower appeal process. Prosecutors, with virtually unbridled discretion to seek the death penalty, may pursue a death sentence even when the evidence is weak, and they may be reluctant to change course when contradictory evidence later arises.8 Even judges, many of whom are also subject to elections, can be influenced in their decisions to ignore evidence of innocence unless it is absolutely irrefutable. And recent changes in the appeals process, especially in federal courts, have made it more likely that executions will proceed even in the face of evidence raising doubts about a defendant's guilt.9\",\n",
       "   'For many years, the ABA has conducted studies, held educational programs, and produced studies and law review articles about the administration of the death penalty. As a result of that work, the Association has identified numerous, critical flaws in current practices. Those flaws have not been redressed, indeed, they have become more severe in recent years, and the new federal habeas law and the defunding of the [resource centers] have compounded these problems. This situation requires the specific conclusion of the ABA that executions cease, unless and until greater fairness and due process prevail in death penalty implementation. -Report in support of American Bar Association Resolution, 199710',\n",
       "   'Professor Samuel Gross, a noted author and researcher at the University of Michigan Law School who has written extensively about capital punishment, recently explored the reasons why mistakes are more likely in capital cases than in other criminal matters.11 Among the reasons he gave in support of this thesis are:',\n",
       "   '• The great pressure on police and prosecutors to \"solve\" the most notorious murders in a community',\n",
       "   'When a police officer is killed or a child brutally raped and murdered, the public is watching every day until a suspect is produced. The terrible murder of 10-year-old Jeanine Nicarico in a Chicago suburb in 1983 at first resulted in months of frustration with no indictments. Eventually, the police and prosecutors settled on the wrong suspects: Rolando Cruz and Alejandro Hernandez. Even though their convictions and death sentences were repeatedly overturned on appeal, the prosecutors continued to retry them. They were not officially cleared and released until 1995. Now three prosecutors and four police officers have been indicted for obstruction of justice in this prosecution.12',\n",
       "   '• Lack of eyewitness testimony',\n",
       "   'When someone is murdered by a stranger, which is often the case in death penalty crimes, there is rarely an eyewitness to the killing. Thus, in prosecuting the case the state relies more heavily on less reliable sources of evidence such as accomplices, jail-house snitches, and pressured confessions from the defendant. The real killer has a strong motivation in a capital case to divert attention from himself and to put the onus, in whole or in part, on another individual who may be completely innocent. Randall Dale Adams, whose saga was portrayed in the documentary, The Thin Blue Line, faced execution in Texas because the real killer, a young man with good family connections in Texas, was able to convince authorities that the outsider, Adams, must have been the killer.',\n",
       "   'A confession by the defendant is not a dependable indicator of guilt.13 Manipulation and pressure by the police, or the presence of mental retardation or mental illness on the part of the defendant can lead an innocent suspect to be overly cooperative with the authorities by supplying information the police obviously want to hear.',\n",
       "   '• Heightened publicity',\n",
       "   'At trial, the heightened publicity surrounding capital cases can influence jurors by supplying them with information that may be inadmissible, misleading, and inflammatory. Such jurors may be swept up in the communal outrage about the crime as conveyed by the media, making them more likely to ignore legitimate doubts raised by the defense.',\n",
       "   '• Death qualified juries',\n",
       "   'Juries in death penalty cases are always quizzed about their attitudes on capital punishment before the start of the trial. Those who could not impose a death verdict are eliminated from the jury pool. According to many studies, the resulting \"death-qualified\" jury is not only prepared to return a death sentence, but is more likely to erroneously convict the defendant in the first place.14 The very raising of the issue of what the punishment will be before the trial can send a signal to prospective jurors that the issue of guilt is in little doubt.',\n",
       "   '• Limited resources of the defense attorney',\n",
       "   \"Defense counsel in a capital case must not only prepare for the guilt/innocence phase of the trial, but also simultaneously ready themselves for the sentencing phase. Since the defense's resources are often severely curbed by state spending limits, the attorney must decide whether it would be better to risk the client's conviction but save his life by spending more time preparing for the sentencing phase. If this preparation occurs at the expense of investigating evidence which might produce an acquittal, it heightens the chance that a mistaken conviction will result.\",\n",
       "   'Verneal Jimerson (IL), released 1996; photo: Loren Santow',\n",
       "   '• Heinousness of death penalty cases',\n",
       "   'Related to the problem of pre-trial publicity is the heinousness of the typical death penalty case. Regardless of whether the jurors heard such evidence before the trial, they will certainly be exposed to it during the trial. The heinousness of the facts alone can make it more likely that the jury will ignore reasonable doubts and return a guilty verdict. Releasing a defendant who is probably guilty (but not guilty beyond a reasonable doubt) of a brutal slaying is much more difficult than releasing someone who is probably guilty of only a misdemeanor. Professor Gross acknowledges that there are countervailing pressures which may make a mistake less likely in a capital case, such as more thorough representation by the defense and more careful review of the case on appeal. But, he notes, these measures are unevenly applied. In many states, the amount of money offered for defending a capital case is totally inadequate and requests for co-counsel, expert testimony and pre-trial investigations are routinely turned down. Similarly, the appeals process is being sharply curtailed, meaning that adequate time will not be available to discover mistakes. Thus, Professor Gross concludes:',\n",
       "   \"The steady stream of errors that we see in cases in which defendants are sentenced to death is a predictable consequence of our system of investigating and prosecuting capital murder. . . . At best, we could do an imperfect job of catching errors after they occur, and in many cases we don't really try. As a result, most miscarriages of justice in capital cases never come to light.15\",\n",
       "   'Reform Needed: Allowing for Residual Doubt in Death Cases',\n",
       "   'While there is guilt for Ronald Monroe, in an execution in this country the test ought not be reasonable doubt; the test ought to be is there any doubt.\" -Louisiana Governor Buddy Roemer, 198916',\n",
       "   'After the U. S. Supreme Court overturned existing death penalty statutes in 1972, many states wrote statutes which closely paralleled the recommendations of the American Law Institute\\'s (ALI) Model Penal Code.17 Indeed, in Gregg v. Georgia, which gave approval to some states\\' new statutes, the Court specifically referred to the Model Penal Code as a source for constructing an acceptable statute.18 In this code, there was an attempt to minimize mistaken executions by allowing the trial court to withhold a death sentence if the evidence left some doubt about the defendant\\'s guilt. These drafters realized the lingering possibility of innocence despite a conviction \"beyond a reasonable doubt.\" The Model Penal Code contained the following provision:',\n",
       "   '§ 210.6 Sentence of Death for Murder; Further Proceedings to Determine Sentence.',\n",
       "   '(1) Death Sentence Excluded. When a defendant is found guilty of murder, the Court shall impose sentence for a felony of the first degree [i.e., a non-death sentence] if it is satisfied that:',\n",
       "   \"* * * * (f) although the evidence suffices to sustain the verdict, it does not foreclose all doubt respecting the defendant's guilt.19\",\n",
       "   'The ALI explained the need for such a provision in its Commentary to this subsection:',\n",
       "   '[S]usbsection (1)(f) . . . is an accomodation to the irrevocability of the capital sanction. Where doubt of guilt remains, the opportunity to reverse a conviction on the basis of new evidence must be preserved, and a sentence of death is obviously inconsistent with that goal.20',\n",
       "   \"Unfortunately, although many states employed a list of aggravating and mitigating circumstances for capital cases similar to the Model Penal Code's suggestions,21 no state or federal jurisdiction has adopted this protection against the execution of the innocent. In light of the heightened danger of error in capital cases, and because it has become apparent that these errors are more pervasive than previously realized, it is imperative to at least amend existing statutes in line with the Model Code's recommendations. An additional revision would be needed to allow appellate courts to take similar action when evidence of innocence does not emerge until well after the trial.\",\n",
       "   'Besides the critically important goal of saving innocent lives, such legislative changes could quickly eliminate from the lengthy death penalty appeals process some of the most troubling and time-consuming cases, i.e., those approaching execution with a legitimate claim of innocence. This would save the criminal justice system both time and money.',\n",
       "   'Innocence on Appeal',\n",
       "   'Once a defendant has been found guilty at trial, the presumption of innocence is shed and replaced with a presumption of guilt. The appeals process is not directly concerned with whether the jury made a mistake in its verdict, but rather focuses on the procedures which were followed in the trial leading up to that verdict. Most states have stringent time limits on presenting the court with new evidence of one\\'s innocence.22 For example, under Virginia\\'s \"21-day rule,\" the defendant must present new evidence of his innocence within 21 days of his conviction in order for it to be considered by the courts on appeal.23 Likewise, federal courts reviewing a state capital case review only constitutional violations and not new factual evidence pointing to innocence.24',\n",
       "   'Joseph Burrows (IL) released 1994; photo Loren Santow',\n",
       "   \"When Leonel Herrera's attorneys tried to introduce evidence that his brother Raul had confessed to the crime for which Leonel was facing execution, the federal courts concluded that such evidence was irrelevant to their deliberations. Such claims, the Court said, should be raised in a clemency petition--an unlikely source of relief for someone like Herrera accused of killing a police officer in Texas. The Court did leave open the remote possibility that the Constitution bars the execution of someone who conclusively demonstrated that he was actually innocent,25 but such cases will be rare or non-existent. Of one thing, however, I am certain. Just as an execution without adequate safeguards is unacceptable, so too is an execution when the condemned prisoner can prove that he is innocent. The execution of a person who can show that he is innocent comes perilously close to simple murder. -Justice Harry Blackmun, Herrera v. Collins, 199326\",\n",
       "   'When Paris Carriger brought both his constitutional and innocence claims before the U.S. Court of Appeals for the Ninth Circuit, he was still denied relief. The chief witness against Carriger was a police informant, Robert Dunbar, who was given immunity for three felonies in exchange for his testimony. Later Dunbar admitted that it was he, not Carriger, who had committed the murder and that he had lied at the trial. He even admitted his guilt in court and again just before his death. 27(Dunbar was inconsistent in his recantation, at times taking back his admission of guilt.)',\n",
       "   'When a three judge panel of the Court of Appeals reviewed this new evidence, they concluded that, \"Dunbar\\'s recantation does, however, show his general unreliability as a witness. . . . We therefore entertain serious doubts about Dunbar\\'s credibility, and these doubts are particularly troubling because the government relied heavily on Dunbar\\'s testimony in prosecuting Carriger.\"28 Doubt about the government\\'s chief witness led to doubt about Carriger\\'s guilt: \"[W]e acknowledge,\" the court wrote, \"that Carriger is not unquestionably guilty. Compared to many other capital cases we have seen, the evidence of guilt here is not overwhelming.\" However, the court would still not grant Carriger any relief: \"The thinness of the prosecutor\\'s case, however, is an insufficient basis on which to grant relief under Herrera and its progeny, which put the burden on the petitioner to show he is unquestionably innocent. This Carriger has not done.\"29 Clearly, innocent defendants face a daunting task in trying to avoid execution under this standard.',\n",
       "   'Joseph Payne faced a similar dilemma on the eve of his scheduled execution in Virginia in November, 1996. Numerous eyewitnesses to the crime of which he was accused had come forward after his trial to testify that Payne was not involved in the prison murder. Here, too, the courts acknowledged their doubts about Payne\\'s guilt. The Fourth Circuit Court of Appeals acknowledged that Payne offered \"copious evidence\" in his favor and \"a wealth of evidence\" that the chief witness against him was \"an appalling and known prevaricator.\"30 But those doubts were not enough for it to issue a stay from his pending execution. Fortunately, because of the doubts about his guilt, the Governor of Virginia stepped in just a few hours before the execution and commuted Payne\\'s sentence to life.31',\n",
       "   'The critical factor regarding evidence of innocence in a capital case is timing. If one is fortunate enough to have competent counsel and the resources to thoroughly investigate the case before trial, and if the necessary evidence of innocence is available then, there is a chance that a conviction and death sentence can be avoided. On the other hand, if the competent counsel or the new evidence does not become available until after trial, the same evidence will often be rejected on technical procedural grounds.',\n",
       "   'Changes in Law Increase the Risk of Executing Innocent People',\n",
       "   \"The case of Lloyd Schlup starkly illustrates the change which is taking place in the courts' assessments of claims by death row inmates that they are innocent. Schlup, whose conviction and death sentence were upheld by all the Missouri courts which reviewed them, was finally given the chance to prove his innocence and his trial lawyer's incompetence when the United States Supreme Court corrected a lower court's overly narrow approach to the degree of proof needed on a claim of innocence.32 However, shortly thereafter, Congress passed the Anti-Terrorism and Effective Death Penalty Act of 1996,33 which discarded the Supreme Court's standard and replaced it with one that is virtually impossible to meet.\",\n",
       "   \"The federal District Court judge reviewing the overwhelming evidence of innocence in Schlup's case granted him a new hearing in accordance with the Supreme Court's guidelines. But, the judge noted, if other standards (equivalent to those now imposed by Congress) had applied to Schlup's case, he would not have gotten relief.34 Thus, Congress has surely sealed the fate of some innocent defendants whose cases will arise under the new law. They will be executed despite evidence of innocence which would be troubling to any reasonable juror.\",\n",
       "   'Lack of Counsel',\n",
       "   \"Of course, the standard for innocence is irrelevant if one does not have an attorney to research the facts and argue them before the court. When Exzavious Gibson appeared recently before a Georgia court reviewing his capital conviction, the prosecution was well represented by experienced attorneys. Mr. Gibson, however, had no one at his side. He kept repeating to the judge that he did not know the law and had no attorney to represent him.35 Despite this blatantly unbalanced contest, the judge proceeded with the hearing and subsequently denied Mr. Gibson's appeal.\",\n",
       "   'Earlier, Mr. Gibson might have been represented by the federally funded Georgia Resource Center. However, in 1996 all the federal funding for that law office, and 19 other similar offices around the country, was withdrawn by Congress.36 Lloyd Schlup, whose case is outlined above, was saved from execution and granted a new trial only because the now-defunct Missouri Resource Center completely reinvestigated the facts and discovered a score of witnesses who should have been called at trial and who said that Schlup was not involved in the crime for which he was convicted. If Schlup did not have the Resource Center representing him, he would have been mistakenly executed as scheduled.',\n",
       "   'Similarly, the Alabama Resource Center vigorously pursued the innocence of its client, Walter McMillian, until his conviction was thrown out and he was released from death row. Now, both the Alabama Resource Center and the Missouri Resource Center are closed because of the withdrawal of federal funds. Many similar stories can be told of thorough representation resulting in reversals of convictions and sentences by other resource centers around the country. This whole structure has been dismantled and the chances that innocent people will be executed has gone up considerably.',\n",
       "   'Part II: The Cases of Innocence',\n",
       "   'I shall ask for the abolition of the death penalty until I have the infallibility of human judgment demonstrated to me. -Marquis de Lafayette',\n",
       "   'What follows is the list of 21 individuals who had been sentenced to death and for whom there is now convincing evidence of their innocence. All of these defendants were formally exonerated. These cases are in addition to the 48 cases of innocence discussed in the original report. (See Appendix).',\n",
       "   'A second group of cases consists of eight individuals whose capital convictions have been reversed, but there has been no formal exoneration. In some of these cases there may be a re-trial, in other cases the charges may be officially dropped later. If the defendant is finally cleared, that case would be added to the list of cases in the first category. This list is not an exhaustive compilation of all reversals in death cases, but rather a collection of prominent cases in which exoneration appears probable.',\n",
       "   \"A third group consists of eight cases in which the defendant has been taken off of death row and evidence of innocence has emerged, but a conviction against him or her in the underlying charges remains. Some of these cases are the result of compromise between the prosecution, which threatens to seek the death penalty again after a reversal on appeal, and the defense, which is claiming complete innocence. In order to avoid the uncertainty, expense and trauma of another trial, the defendant agreed to plead guilty to a lesser charge in exchange for immediate release. In other cases, a governor, troubled by a defendant's possible innocence, has commuted the death sentence to a life sentence. Again, this list is not exhaustive of all cases in which the death sentence was lifted.\",\n",
       "   'Finally, the report discusses a few cases which may fall into one of the above categories in the future, but for now remain unresolved.',\n",
       "   'Dennis Williams (IL), released 1996; photo: Loren Santow',\n",
       "   'A. Acquittals/Charges Dropped (21 cases) + (48 cases in original report)37',\n",
       "   'Pre-1993 Cases (information not available at the time of earlier report):',\n",
       "   '49. Samuel A. Poole  North Carolina Conviction 1973 Released 1974',\n",
       "   'After being convicted of first degree burglary and given a mandatory death sentence, Poole had his conviction overturned by the N.C. Supreme Court because the case lacked substantial evidence that Poole was the person who broke into the home.',\n",
       "   '50. James Creamer  Georgia Conviction 1973 Released 1975',\n",
       "   'Creamer was sentenced to death for a murder allegedly committed with six other individuals. After an investigation by the Atlanta Constitution, a federal judge declared that the prosecution had withheld and destroyed evidence, a witness admitted she had lied in court, and another man confessed to the crimes. The convictions against all seven men were overturned, and charges were later dropped.',\n",
       "   '51. Dale Johnston  Ohio Conviction 1984 Released 1990',\n",
       "   'Johnston was sentenced to death for the murder of his stepdaughter and her fiancee. His conviction was overturned in 1988 by the Ohio Supreme Court because the prosecution withheld exculpatory evidence from the defense, and because one witness had been hypnotized. The state later dropped charges against Johnston.',\n",
       "   '52. Jay C. Smith  Pennsylvania Conviction 1986 Released 1992',\n",
       "   'Smith, a former high school principal, was convicted of the 1979 murder of 3 people, though his death sentence was later reduced to life. He was freed on Sept. 18, 1992 after the Pennsylvania Supreme Court unanimously ruled that the prosecution had withheld crucial evidence, calling the state\\'s action \"egregious\" misconduct.',\n",
       "   'Recent Releases:',\n",
       "   '53. James Robison  Arizona Conviction 1977 Released 1993',\n",
       "   'Robison was convicted of murder and conspiracy in 1977 in the death of a reporter, Don Bolles. His conviction was overturned in 1980, but he was recharged with the offense in 1990. He was acquitted at retrial in December, 1993.',\n",
       "   '54. Muneer Deeb  Texas Conviction 1985 Released 1993',\n",
       "   \"Deeb was originally sentenced to death for allegedly contracting with three hitmen to kill his ex-girlfriend. The hitmen were also convicted and one was sentenced to death. Deeb consistently claimed no involvement in the crime. Deeb's conviction was overturned by the Texas Court of Criminal Appeals in 1991 because improper evidence had been admitted at his first trial. With an experienced defense attorney, Deeb was retried and acquitted in 1993.\",\n",
       "   '55. Andrew Golden  Florida Conviction 1991 Released 1994',\n",
       "   \"Golden, a high school teacher in Florida, was convicted of murdering his wife. His conviction was overturned by the Florida Supreme Court in 1993. The court held that the state had failed to prove that the victim's death was anything but an accident. Golden was released into the waiting arms of his sons on January 6, 1994.\",\n",
       "   '56. *Clarence Smith  Louisiana Conviction 1985 Released 1994',\n",
       "   \"Smith's conviction was overturned by the state Supreme Court because the jury was improperly instructed. He was acquitted at a retrial in March, 1994 and released. The principal witnesses at both trials were two convicts with a long list of crimes who were given immunity and plea bargains in exchange for their testimony. (*Subsequent to this report, Clarence Smith was convicted in a federal trial of charges which included the murder for which he was acquitted in Louisiana. For this reason, this case will be dropped from the report.)\",\n",
       "   '57. Joseph Burrows  Illinois Conviction 1989 Released 1994',\n",
       "   \"No physical evidence linked Burrows to the murder of William Dulin. The prosecution's two chief witnesses recanted their testimony against Mr. Burrows, and one of them confessed to the murder for which Burrows had been sent to death row. One of the witnesses said he had been coerced by prosecutors and police. Burrows was released in September, 1994, and the Illinois appellate courts have upheld the overturning of his conviction.\",\n",
       "   '58. Adolph Munson  Oklahoma Conviction 1985 Acquitted 1995',\n",
       "   \"Munson's conviction was unanimously overturned by Oklahoma's highest criminal appeals court in December, 1994 because the state withheld material evidence tending to exonerate Munson. Some of the forensic evidence at trial was provided by Dr. Ralph Erdmann, who was subsequently convicted of seven felony counts involving misrepresentation of facts in other cases and stripped of his license. Munson was acquitted at a re-trial in April, 1995.\",\n",
       "   '59. Robert Charles Cruz  Arizona Conviction 1981 Released 1995',\n",
       "   'Cruz was charged with planning the killing of two people in Phoenix in 1980. He went through five trials, including two convictions and two mistrials, before his acquittal on June 1, 1995. The chief prosecution witness, a convicted burglar and former drug dealer, was given immunity for his testimony. Another co-defendant, Joyce Lukezic, had been acquitted at re-trial in 1985.',\n",
       "   '60. Rolando Cruz  Illinois Conviction 1985 Released 1995',\n",
       "   \"Cruz was sentenced to death for the murder of 10-year-old Jeanine Nicarico. Another man, Brian Dugan, who had already pled guilty to two rapes and murders, including that of an 8-year-old girl, authorized his lawyer to tell the prosecutors that he killed Nicarico. Cruz was convicted at a second trial in 1990, at which Dugan did not testify. In July, 1994, the state Supreme Court overturned Cruz's second conviction. An assistant state attorney general resigned because she thought the evidence showed Cruz was innocent and thought it wrong to pursue the prosecution. Other law enforcement officials also protested the continued efforts to prosecute Cruz. Cruz was finally acquitted at his retrial in November, 1995. The judge did not even wait for the defense to put on its case before entering a directed verdict of not guilty. Three prosecutors and four law enforcement officers involved with the prosecution of Cruz and his co-defendant (see below) have been indicted for obstruction of justice in this case.\",\n",
       "   '61. Alejandro Hernandez  Illinois Conviction 1985 Released 1995',\n",
       "   'Hernandez was sentenced to death along with Rolando Cruz for the murder of Jeanine Nicarico in 1983. Hernandez was re-tried in 1990, but the trial ended in a hung jury. A third trial in 1991 resulted in a conviction and an 80 year prison sentence. The conviction was overturned by the Illinois Supreme Court in January, 1995. Only his own indirect statements, not any direct physical evidence, linked Hernandez, who is borderline retarded, to the killing. He was released on bond, and charges were subsequently dropped on Dec. 8, 1995. The man who has confessed to the murder of Jeanine Nicarico, and whose DNA has been linked to the crime, has not been charged in the case. The U.S. Dept. of Justice is considering an investigation into civil rights violations in this case.',\n",
       "   '62. Sabrina Butler  Mississippi Conviction 1990 Released 1995',\n",
       "   'Butler was sentenced to death for the murder of her nine-month-old child. When she found her baby not breathing, she performed CPR and took him to the hospital. She was interrogated by the police and then prosecuted. Her conviction was overturned by the Mississippi Supreme Court in 1992. Upon re-trial, she was acquitted on Dec. 17, 1995 after a very brief jury deliberation. It is now believed that the baby may have died either of cystic kidney disease or from sudden infant death syndrome (SIDS).',\n",
       "   '63. Verneal Jimerson  Illinois Conviction 1985 Released 1996',\n",
       "   \"Jimerson was sentenced to death in 1985 for a murder which occurred in 1978. The chief witness against him was Paula Gray, who has an IQ of 57. In her original story to the police, she did not mention Jimerson. Then she added his name to her account, along with three other names, including Dennis Williams (see #64). She later recanted her entire testimony, saying the police had forced her to lie. The original charges against Jimerson were dismissed, but they were resurrected seven years later when the police offered to drop some charges against Gray if she would implicate Jimerson. Gray's 50 year sentence was converted to 2 years probation. In 1995, the Illinois Supreme Court unanimously reversed Jimerson's conviction, because Gray had been allowed to testify falsely about her bargain. Jimerson was released on bond in early 1996, and charges against him were subsequently dropped.\",\n",
       "   '64. Dennis Williams  Illinois Conviction 1979 Released 1996',\n",
       "   \"Williams was convicted, along with three others (including Verneal Jimerson, above), for the murder of a young couple in 1978. After spending 18 years in prison, Williams was released on June 14, 1996 because new evidence pointed to the fact that all four men were wrongly convicted. Much of the investigative work which led to the defendants' release was done by three journalism students. Recent DNA tests indicate that none of the four men were involved in the crime, and another man has confessed to the murder. Charges against Williams, and two others who received lesser sentences in the same case, were dropped on July 2, 1996. Cook County State's Attorney Jack O'Malley apologized to the four wrongly convicted defendants, including Verneal Jimerson, who had also been on death row.\",\n",
       "   '65. Roberto Miranda  Nevada Conviction 1982 Released 1996',\n",
       "   'Miranda was released in September 1996 after the prosecution declined to retry him following the reversal of his conviction. Miranda had maintained his innocence through his 14 years on death row. He originally came to the U.S. from Cuba during the Mariel boatlift. Prosecutors originally offered him a plea bargain whereby he would serve as little as 10 years in prison, but he refused because he was innocent. One day after being released from death row with only the clothes on his back and a few belongings, he was incarcerated by the Immigration Service. He was subsequently released pending a deportation hearing. At trial, Miranda had been represented by an attorney with one year\\'s experience who had inherited the case when his colleague died. In overturning his conviction, the judge wrote: \"The lack of pretrial preparation by trial counsel . . . cannot be justified.\"',\n",
       "   '66. Gary Gauger  Illinois Conviction 1993 Released 1996',\n",
       "   'Gauger was convicted of killing his parents in April, 1993. In March, 1996, the U.S. District Court overturned his conviction, ruling that authorities never had probable cause to even arrest Gauger or to subject him to 21 hours of intensive questioning. He was released in October, 1996 by the same judge that had sentenced him to die by lethal injection. His sentence had earlier been reduced to life in prison. The prosecution did not challenge his release.',\n",
       "   '67. Troy Lee Jones  California Conviction 1982 Released 1996',\n",
       "   'The California Supreme Court ruled in June, 1996 that Jones should have a new trial because he was not adequately defended at his original trial for the murder of Carolyn Grayson in 1981. The Court found that the defense attorney failed to conduct an adequate pretrial investigation, speak with possible witnesses, obtain a relevant police report, or seek pretrial investigative funds. Moreover, the attorney elicited damaging testimony against his own client during cross examination of a witness. The prosecution announced that it was dropping all charges against Jones in November, 1996, after he had been on death row for 14 years.',\n",
       "   '68. Carl Lawson  Illinois Conviction 1990 Released 1996',\n",
       "   \"Lawson was convicted of killing Terrence Jones in a family dispute. He was tried three times. The first trial resulted in a conviction and death sentence, but that conviction was overturned in part because Lawson's public defender had been an assistant prosecutor when Lawson was arrested. The second trial resulted in a hung jury, reportedly 11-1 for acquittal. Nevertheless, the prosecutors tried Lawson again and again sought the death penalty. This time Lawson was acquitted and freed on December 12, 1996.\",\n",
       "   '69. Ricardo Aldape Guerra  Texas Conviction 1982 Released 1997',\n",
       "   'Guerra was sentenced to death for the murder of a police officer in Houston. Federal District Judge Kenneth Hoyt ruled on Nov. 15, 1994 that Guerra should either be retried in 30 days or released, stating that the actions of the police and prosecutors in this case were \"outrageous,\" \"intentional\" and \"done in bad faith.\" He further said that their misconduct \"was designed and calculated to obtain . . . another \\'notch in their guns.\\'\" Judge Hoyt\\'s ruling was unanimously upheld by the U.S. Court of Appeals. A new trial was granted to Guerra, but Houston District Attorney Johnny Holmes dropped charges on April 16, 1997 instead. Guerra returned to his native Mexico. • • • •',\n",
       "   'B. Reversals With the Probability of Innocence (8 cases)',\n",
       "   'As the above list shows, new cases of innocent people on death row are frequently being discovered. Cases are not added to the list, however, until the defendant is cleared of the charges. If a retrial is likely, then a person is not included. Nevertheless, there have been some notable reversals of convictions in death penalty cases in recent years where there is a strong likelihood that the defendant will ultimately be completely cleared. In some of these cases, the defendant has already been released from prison. The defendants have not been completely exonerated because the state has indicated it will retry them.',\n",
       "   'Andrew Lee Mitchell Texas Conviction 1981 Released 1993',\n",
       "   \"The Texas Court of Criminal Appeals overturned the murder conviction of Mitchell, within two days of execution in 1984, because the sheriff's department suppressed statements from law officers who reported seeing the victim alive two hours after the alleged murder. A key witness also recanted his testimony. The prosecutor in Mitchell's case filed an affidavit saying that Mitchell had not received a fair trial. Mitchell was freed in 1993 and no re-trial has been held.\",\n",
       "   'Curtis Kyles Louisiana Conviction 1984 Not Released',\n",
       "   \"Kyles's conviction was overturned by the U.S. Supreme Court on April 19, 1995, because the prosecution had withheld material evidence from the defense, thereby undermining the verdict. Kyles's successful appeal was in the form of a federal habeas corpus petition, since he had lost all of his appeals in state court. The state had withheld considerable information about a paid informant who may have been the actual murderer. The retrial of Kyles resulted in a hung jury. The next steps are unclear, but Kyles may be released.\",\n",
       "   'Benjamin Harris Washington Conviction 1984 Not Released',\n",
       "   \"The U.S. Court of Appeals for the 9th Circuit vacated Harris's conviction on September 12, 1995, because his original trial lawyer was incompetent. Harris maintains his innocence and says he was framed for the 1984 murder of Jimmie Turner. Harris's attorney interviewed only 3 of the 32 witnesses listed in police reports and spent less than 2 hours consulting with Harris before trial. Harris's co-defendant was acquitted. Harris has been found to be mentally incompetent. The prosecution is unsure about retrying Harris.\",\n",
       "   'Joseph Spaziano Florida Conviction 1976 Not Released',\n",
       "   'Spaziano was tried for the murder of a young woman which had occurred two years earlier. No physical evidence linked him to the crime. He was convicted primarily on the testimony of a drug-addicted teenager who, after hypnosis and \"refreshed-memory\" interrogation, thought he recalled Spaziano describing the murder. This witness has recently said that his testimony was totally unreliable and not true. Hypnotically induced testimony is no longer admissible in Florida. Death warrants have been repeatedly signed for Spaziano, even though the jury in his case had recommended a life sentence. In January, 1996, Florida Circuit Court Judge O.H. Eaton granted Spaziano a new trial, and this decision was upheld by the Florida Supreme Court on April 17, 1997.',\n",
       "   'Donald Gunsby Florida Conviction 1988 Not Released',\n",
       "   'Gunsby was convicted in a two-day trial of a murder at a convenience store in 1988. He suffers from retardation and was represented by a court appointed lawyer less than a year out of law school. The prosecutors withheld important evidence during the trial. The Florida Supreme Court granted him a new trial in January, 1996 because of the combined effect of prosecutorial misconduct, ineffective assistance of counsel and newly discovered evidence.',\n",
       "   'Lloyd Schlup Missouri Conviction 1985 Not Released',\n",
       "   \"Schlup was convicted in 1985 of a murder while in prison. However, a prison videotape shows him to be in the cafeteria around the time of the murder at a different location. One prison guard has testified that the tape, along with his observation of Schlup just before he went to the cafeteria, prove he could not have been present at the murder. Twenty other witnesses also swear that he was not at the scene of the crime. The U.S. Supreme Court gave Schlup the opportunity for a hearing concerning his new evidence, despite the fact that he had exhausted his ordinary appeals. Following the hearing in federal District Court in December 1995, the court held that no reasonable juror would have found Schlup guilty. On May 2, 1996, Schlup was granted a writ of habeas corpus on the ground that his original trial attorney failed to adequately represent him. Schlup will now receive a new trial. The State of Missouri unsuccessfully attempted to apply the new federal habeas corpus law which was signed on April 24, 1996 to Schlup's case. Under the new law, Schlup probably would have been executed.\",\n",
       "   'Kerry Max Cook Texas Conviction 1978 Not Released',\n",
       "   'Cook was originally convicted of killing Linda Jo Edwards in 1978. In 1988, he came within 11 days of execution, when the U.S. Supreme Court ordered the Texas Court to review its decision. Cook\\'s conviction was overturned in 1991. He was re-tried in 1992, but the trial ended in a hung jury. In 1993, a state district judge ruled that prosecutors had engaged in systematic misconduct, surpressing key evidence. In 1994, Cook was tried again, and this time found guilty and again sentenced to death. On Nov. 6, 1996, the Texas Court of Criminal Appeals reversed his conviction, saying that \"prosecutorial and police misconduct has tainted this entire matter from the outset.\" The court ruled that key testimony from the 1994 trial could not be used in any further prosecution. It is uncertain whether he will be re-tried.',\n",
       "   'Robert Lee Miller, Jr. Oklahoma Conviction 1988 Not Released',\n",
       "   \"Miller was convicted of the rape and murder of two elderly women in 1988. However, recent DNA evidence points to another defendant who was already incarcerated on similar charges. Oklahoma County Special Judge Larry Jones dismissed the charges against Miller in February, 1997, saying that there was not enough evidence to justify his continued imprisonment. Miller's original conviction was overturned in 1995, and he was granted a new trial. The prosecution is appealing Judge Jones's ruling. • • • •\",\n",
       "   'C. Released from Death Row, Probable Innocence',\n",
       "   \"In the original report of 48 cases of innocence, there were five cases in which there was considerable evidence of the defendant's innocence and he was released from death row, but not completely exonerated. In some cases, the person agreed to plead guilty to a lesser charge in order to get the state to agree not to undertake another trial in which he could face death. The plea then resulted in the person's immediate release, and often a statement was issued that the plea was for the purpose of ending a very difficult and frightening experience, not an admission of guilt. No such cases were included in the 21 cases which this report adds to the list of innocent cases. However, a sampling of cases not in the original report in which the defendant is probably innocent despite a conviction are: 38\",\n",
       "   'Larry Dean Smith Oklahoma Conviction 1978 Released 1984',\n",
       "   \"Smith was convicted of the murder of a man who burned to death in a camper pick-up truck. Although he at first admitted his involvement in the related robbery, he maintained he had nothing to do with the murder. The U.S. Supreme Court vacated his death sentence, and the Oklahoma Attorney General recommended that the murder conviction be set aside. On remand, the Oklahoma Court of Criminal Appeals refused to uphold Smith's conviction for the robbery.\",\n",
       "   'Sonia Jacobs Florida Conviction 1976 Released 1992',\n",
       "   \"Jacobs and her companion, Jesse Tafero, were sentenced to death for the murder of two policemen at a highway rest stop in 1976. A third co-defendant received a life sentence after pleading guilty and testifying against Jacobs and Tafero. The jury recommended a life sentence for Jacobs, but the judge overruled the jury and imposed death. A childhood friend and filmmaker, Micki Dickoff, then became interested in her case. Jacobs's conviction was overturned on a federal writ of habeas corpus in 1992. Following the discovery that the chief prosecution witness had failed a lie-detector test, the prosecutor accepted a plea in which Jacobs did not admit guilt, and she was immediately released. Jesse Tafero, whose conviction was based on much of the same highly questionable evidence, had been executed in 1990 before the evidence of innocence had been uncovered.\",\n",
       "   'Herbert Bassette Virginia Conviction 1979 Commuted to life 1992',\n",
       "   \"Bassette was convicted of murdering a gas station attendant in 1979. Doubt later arose about the testimony presented at trial, and a police statement indicated that one of the witnesses had implicated another person in the killing. Governor Douglas Wilder commuted Bassette's sentence to life without parole after expressing doubts about the conviction.\",\n",
       "   'Earl Washington Virginia Conviction 1984 Commuted to life 1994',\n",
       "   \"Earl Washington suffers from mental retardation. After he was arrested on another charge in 1983, police convinced him to make a statement concerning the rape and murder of a woman in Culpeper in 1982. He later recanted that statement. Subsequent DNA tests confirmed that Washington did not rape the victim, who had lived long enough to state that there was only one perpetrator of the crime. The DNA results combined with the victim's statement all but exonerated Washington. Shortly before leaving office in 1994, Governor Wilder commuted Washington's sentence to life with the possibility of parole. He remains incarcerated.\",\n",
       "   'Mitchell Blazak Arizona Conviction 1974 Released 1994',\n",
       "   'Blazak was originally convicted of a murder in which a ski-masked gunman killed a bartender and a customer at a bar in Tucson in 1973. The conviction was based largely on the testimony of a small time con man, Kenneth Pease, who was arrested for a number of felonies in New Mexico and Arizona. Pease testified after being granted immunity. A federal court in 1991 termed Pease\\'s testimony to be \"a mass of contradictions.\" The court also ruled that the trial judge had failed to ensure that Blazak was competent to stand trial. Rather than pursue a new trial, the prosecutor offered a no contest plea in September, 1994, which allowed Blazak to be released before the end of the year. There was some evidence that a deputy sheriff named Michael Tucker planted hair evidence in the case. Three days after Blazak walked out of prison, Tucker was arrested for car theft.',\n",
       "   'Anthony Scire Louisiana Conviction 1985 Released 1994',\n",
       "   'Scire was sentenced to death for hiring Clarence Smith to murder a police informant. The chief witnesses at the trial were members of a motorcycle gang given immunity for this and other crimes in exchange for their testimony. The convictions of both Scire and Smith (see #56 above) were overturned. At retrial, Smith was acquitted. Scire pleaded guilty to manslaughter, while maintaining his innocence. He was immediately released in exchange for time served.',\n",
       "   'Donald Paradis Idaho Conviction 1981 Commuted to life 1996',\n",
       "   \"Considerable doubt arose about whether Paradis had any involvement in the murder of a young woman, whether he was at the place the murder occurred, or even whether the murder occurred in the State of Idaho. The lawyer appointed to represent Paradis had only been practicing for 7 months and had never tried a criminal case before a jury or had a client facing a felony charge. Some of the trial witnesses have now recanted their testimony. In May, 1996, the governor commuted Paradis's sentence to life without parole.\",\n",
       "   'Joseph Payne Virginia Conviction 1986 Commuted to life 1996',\n",
       "   \"Although the defense knew of 17 witnesses willing to testify on Payne's behalf, they only used one, and Payne was convicted of murder by arson of another inmate at the Powhatan Correctional Center in Virginia. While the jury was deliberating, the prosecution offered Payne a plea whereby he would receive a sentence to run concurrently with the sentence he already was serving, but the offer was refused because his lawyers thought an acquittal was likely. Instead, he was sentenced to death and was scheduled to be executed on Nov. 7, 1996. The chief witness against Payne, Robert Smith, received a 15 year reduction in sentence. At one point, Smith admitted that he had lied at Payne's trial. Three hours before his execution, and after Payne agreed not to appeal, Payne's sentence was reduced to life without parole by Governor George Allen.\",\n",
       "   'Other Cases of Possible Innocence',\n",
       "   'Finally, with over 3,000 people on death row, undoubtedly more cases will be discovered where the accused is actually innocent. Hopefully, these mistakes will be discovered before the individuals are executed, though there is certainly no guarantee this will happen. Even if only 1% of death row convictions are mistaken (a minimal estimate based on the record of the past 20 years), there would be over 30 more people to add to the innocence lists. Some of the cases in which the conviction and death sentence still stand, despite considerable evidence of innocence are:',\n",
       "   'Paris Carriger Arizona Conviction 1978',\n",
       "   'Carriger was scheduled to die on December 6, 1995 for a murder he steadfastly maintains he did not commit. Another man, Robert Dunbar, has twice confessed that he lied at Carriger\\'s trial, and that it was he who committed the murder. As a result of his original trial testimony against Carriger, Dunbar was given immunity for other charges. Dunbar has since died. A three judge panel of the 9th Circuit U.S. Court of Appeals upheld Carriger\\'s death sentence, noting that while his case raised doubts, he must prove by clear and convincing evidence that \"he is unquestionably innocent.\" Review of the case by the entire 9th Circuit was granted in February, 1997.',\n",
       "   'John Spirko Ohio Conviction 1984',\n",
       "   \"The chief witness against Spirko at his trial for the murder of the Postmaster in Elgin, Ohio said that he was only 70% sure of his identification. Substantial information from a Postal Service Investigation was withheld from the defense. Recently released records indicate that Spirko's supposed co-defendant was actually 600 miles away at the time of the crime. The new evidence implicates others in the murder. It may merit a new trial and possibly lead to the acquittal of Spirko.\",\n",
       "   \"Joseph O'Dell Virginia Conviction 1986\",\n",
       "   \"New DNA blood evidence has thrown considerable doubt on the murder and rape conviction of O'Dell. In reviewing his case in 1991, three Supreme Court Justices, said they had doubts about O'Dell's guilt and whether he should have been allowed to represent himself. Without the blood evidence, there is little linking O'Dell to the crime. In September, 1996, the 4th Circuit of the U.S. Court of Appeals reinstated his death sentence and upheld his conviction. The U.S. Supreme Court refused to review O'Dell's claims of innocence and held that its decision regarding juries being told about the alternative sentence of life-without-parole was not retroactive to his case. O'Dell has asked the state to conduct DNA tests on other pieces of evidence to demonstrate his innocence.\",\n",
       "   'David Ronald Chandler U.S. Conviction 1991',\n",
       "   \"Chandler was the first person sentenced to death under the 1988 federal death penalty law for murders in the course of drug conspiracy. The prosecution alleged that Chandler was a large marijuana grower in Alabama, and that he paid Charles Jarrell $500 to kill Marlin Shuler, who was involved in the drug trade. Jarrell committed the murder, and in exchange for his testimony against Chandler, state murder charges against him were dropped, and he was given a 25 year sentence on marijuana distribution charges. Now Jarrell admits that he lied at the trial and that Chandler was not involved in the murder. Jarrell said he was coerced by prosecutors into testifying against Chandler. Jarrell says he killed Shuler, who was his brother-in-law, because Shuler was abusing Jarrell's sister and mother. Chandler had been scheduled for execution in 1995. The District Court in Birmingham denied his request for a new trial on April 7, 1997 and that petition is on appeal.\",\n",
       "   'Determining Innocence After An Execution',\n",
       "   \"This report does not include in its totals the cases of possibly innocent persons who have been executed. Reports of executions of innocent people weighed heavily in some other countries' decisions to stop using the death penalty. Two American researchers, Professors Hugo Bedau and Michael Radelet, reported 23 instances in which innocent people have been executed in the United States in this century.39\",\n",
       "   'Among the cases noted by Bedau and Radelet are cases in the south of black men tried by all white juries and executed for the rape of a white woman. In some of these cases, subsequent evidence revealed that the woman had an ongoing sexual relation with the accused, but such evidence was considered either unbelievable or irrelevant at the time.',\n",
       "   'The difficulty with such cases is that generally no court decides that an executed person was innocent. Courts hear current cases brought by live petitioners. Whether an executed person was innocent becomes a matter of historical research (which is rarely undertaken) and an evolving consensus among the public. This is a much slower and less precise process than a retrial ending in an acquittal.',\n",
       "   'Recent Cases of Possible Mistaken Executions',\n",
       "   'Since the death penalty was reinstated in 1976, there have been inmates with reasonably credible claims of innocence who were nevertheless executed, some without a full review of those claims. In 1992, for example, Roger Keith Coleman made headlines with his dual plea that he was innocent and that no court would review his evidence.40',\n",
       "   \"Coleman's representation at trial was shoddy. On appeal, his new attorneys misread the state statute governing the time for submitting an appeal and filed their brief a day too late. The Virginia state courts held that this late filing was the same as no filing and refused to review his issues. The federal courts then said that he could not raise a federal claim because he had waived his state review. Finally, the Supreme Court said that he could not complain that it was his attorney who erred, since he was not entitled to an attorney in the first place.41 Coleman was executed without a full review of his innocence claims.\",\n",
       "   'Leonel Herrera may have been innocent, but he was not innocent enough to satisfy the Supreme Court.42 A former Texas judge submitted an affidavit stating that another man had confessed to the crime for which Herrera was facing execution. Numerous other pieces of new evidence also threw doubt on his conviction. Still, the Court said that at this late stage of his appeal, he needed an extraordinary amount of proof to stop his execution. He was executed in Texas in 1993.',\n",
       "   \"Another kind of innocence was illustrated in the case of Jesse Jacobs, who was executed in Texas on January 4, 1995.43 Jacobs had been convicted and sentenced to death after the state had put on evidence to show that he was the actual killer in an abduction ending in murder which also involved a co-defendant. At the later trial of the co-defendant, the state reversed its story and said it was the co-defendant, not Jacobs, who pulled the trigger. In fact, the prosecution used (and thus vouched for) Jacobs's own testimony that he did not do the shooting and did not even know that his co-defendant had a gun. The co-defendant was also convicted, though not sentenced to death. Despite the admission by the prosecution that the arguments they made at Jacobs's trial were false, Jacobs was executed.\",\n",
       "   'Jacobs was not innocent in the full sense of the word. He had admittedly participated in the underlying crime, but it is doubtful that the jury would have sentenced him to death if the prosecutors had acknowledged that he was not directly involved in the actual murder. Three Supreme Court Justices were highly critical of this deception on the prosecution\\'s part. Justice Stevens wrote: \"It would be fundamentally unfair to execute a person on the basis of a factual determination that the state has formally disavowed. I find this course of events deeply troubling.\"44',\n",
       "   'Senator Arlen Specter, an ardent death penalty supporter and former district attorney, was also distressed at this development, and in addressing the Senate he warned against such impositions of the death penalty in \"a callous or unreasonable fashion.\"45 The European Parliament likewise passed a resolution expressing \"shock\" at this execution; there were no votes opposing the resolution.46',\n",
       "   'The recent execution of Coleman Wayne Gray in Virginia is another example of improper state tactics used to tip the balance toward a death sentence. At the time of Gray\\'s sentencing hearing, the state circumvented the rules of disclosure and at the last minute raised the prospect of other notorious offenses by Gray (even though he had not been charged in these alleged offenses). With no chance to adequately refute these allegations, Gray was sentenced to death. Federal District Court Judge James Spencer found the state\\'s action unfair, but found himself constrained by the new Anti-Terrorism and Effective Death Penalty Act of 1996 from granting Gray any relief. He wrote: \"One cannot morally support the death penalty without some assurance, by evidence or faith, that the ultimate penalty is imposed fairly.\" Gray was executed on February 26, 1997.47',\n",
       "   'Does the System Work?',\n",
       "   'The fact that so many cases of innocent people on death row have been overturned could convey the impression that the appeals system in capital cases prevents a fatal mistake from being made. However, a review of why many of these mistakes were discovered leads to a very different conclusion.',\n",
       "   \"Randall Dale Adams's innocence was primarily established when an independent film maker, Errol Morris, went to Texas to do a documentary on the infamous psychiatrist who repeatedly testified for the state that each defendant he considered presented an ongoing threat to society and hence should be executed. The course of that documentary took an unusual turn when the real killer confessed to the crime. The resulting movie, The Thin Blue Line, was a critical factor in Adams's release.48\",\n",
       "   'Clarence Brandley was convicted of murder and rape in a racially charged case in Texas. Fortunately, the civil rights community mounted a major effort to prove his innocence, and a 60 Minutes documentary added to the considerable doubt about the veracity of the original trial. Brandley was exonerated, but such resources, though critical, are not available to most death row defendants.49',\n",
       "   'Kirk Bloodsworth was exonerated in Maryland because DNA testing became available years after his trial. This was a fortuitous scientific development, not the normal workings of the appeals process.50',\n",
       "   \"Similarly, recent reversals such as those of Rolando Cruz, Alejandro Hernandez, Verneal Jimerson and Dennis Williams were all helped by the development of DNA testing. In the case of Cruz and Hernandez, the state continued to prosecute them despite the fact that another man had confessed to the crime and the evidence against them was unreliable. One assistant in the Attorney General's office resigned rather than continue the prosecution of these men. But the state pressed on, partly under the guidance of a prosecutor who became the State's Attorney General. Now both inmates are free, with all charges dropped. Three former prosecutors and four police officers have been indicted for obstruction of justice in this case.51\",\n",
       "   'Fortunately, Cruz and Hernandez were assisted by an excellent defense team, including experts from Northwestern University Law School and well-known author Scott Turow. Considerable media attention over many years also aided the defendants in this case. Clearly, if their appeals had run out four or five years after their convictions, they would be dead today instead of free.',\n",
       "   'Verneal Jimerson and Dennis Williams were involved in another Illinois case involving four defendants. All have been freed, and the state has admitted that it prosecuted the wrong defendants. The breakthrough came when a journalism professor, David Protess, assigned the case to some of his students. They reinvestigated, discovered that the wrong men had been convicted, and supported their findings with DNA testing.52 The journalistic review process worked well--the appeals process had not.',\n",
       "   'System Now Lacks Critical Resources',\n",
       "   'Some of the most effective work of reinvestigating capital cases leading to new trials and releases from death row was done in recent years by the death penalty resource centers. These centers were created during the Reagan administration to assist attorneys in the complex area of capital appeals. They worked on death penalty cases full-time and shared their expertise with others. Condemned inmates such as Walter McMillian in Alabama, Lloyd Schlup in Missouri, Curtis Kyles in Louisiana, Andrew Golden in Florida and Federico Macias in Texas had their convictions overturned either through direct resource center representation or with their help.',\n",
       "   'Today, however, all federal funding for the 20 resource centers has been withdrawn. Most of these centers have closed. Some continue with reduced staff, no longer able to offer even temporary representation to the thousands of death row inmates. Yet the appeals system is only as effective as the attorneys who bring the cases before the courts. Some states, such as Georgia, Mississippi and Louisiana, provide no defense money for state post-conviction appeals. Volunteer lawyers and large law firms willing to take these cases for free are largely tapped out. The appeals system has been shortened and significantly narrowed over the past few years. Now, adequate representation for even this curtailed process is doubtful in many cases. Some inmates will continue to benefit from excellent and experienced attorneys who invoke the legal process, and even the media when necessary, to expose the injustices which led to wrongful convictions. But there is no reliable system which ensures that everyone facing execution will have anywhere near that kind of help. New people will be released from death row each year, but many more will be executed, and it is increasingly likely that some of those killed are innocent.',\n",
       "   'Scope of the Problem',\n",
       "   'Since 1973, approximately 6,000 people have been sentenced to death.53 During this same period, 69 people have been released from death row with substantial evidence of their innocence. This translates to a rate of over 1 innocent death row inmate for every 100 death sentences. As the analysis above indicates, the rate may be considerably higher, since extraordinary efforts are generally needed to free a death row inmate, and most inmates do not have those extra resources available to them.',\n",
       "   'Professors Radelet and Bedau reported 416 cases this century of mistaken convictions in \"potentially capital cases,\" that is, those whose crime could merit the death penalty, assuming such a law was in place.54 While those authors point out that there probably have been many other erroneous convictions, their rate of about 4.5 innocent persons convicted each year in capital cases is comparable to the rate of 4.8 persons per year released from death row in recent years. This is some indication that the problem of critical mistakes in capital cases is persistent and very difficult to eradicate.',\n",
       "   'Another view of the scope of the problem of error in the criminal justice system is contained in a 1996 Department of Justice Report on the use of DNA evidence. The report catalogs numerous cases, mostly from the late 1980s, in which previous convictions were overturned upon DNA testing. Some of these cases involved defendants on death row.55',\n",
       "   'In commentary accompanying the report, Peter Neufeld and Barry Scheck note how often the police focus on the wrong suspect:',\n",
       "   \"Every year since 1989, in about 25 percent of the sexual assault cases referred to the FBI where results could be obtained . . . the primary suspect has been excluded by forensic DNA testing. . . . The fact that these percentages have remained constant for 7 years, and that the National Institute of Justice's informal survey of private laboratories reveals a strikingly similar 26-percent exclusion rate, strongly suggests . . . underlying systemic problems that generate erroneous accusations and convictions.56\",\n",
       "   'The fact that 1 out of 4 defendants accused of a serious crime such as sexual assault is innocent, or that at least 1 out of 100 of those actually sentenced to death is innocent, is disturbing. Certainly, such a record would be totally unacceptable for a car company whose cars were so defective that they caused fatal crashes in 1 out of 100 vehicles. Some would conclude that since death penalty errors are completely avoidable by switching to a sentence of life without parole, the capital punishment process should be stopped all together. Others, like the American Bar Association, have concluded that at the very least such evidence demands that capital cases be given the most thorough and careful attention that the legal system can provide if the death penalty is to continue at all. They recently concluded that the present system does not provide adequate protections and that executions should be stopped.57',\n",
       "   'Conclusion',\n",
       "   \"The risk that innocent people will be caught in the web of the death penalty is rising. The increased rate of discovery of innocent people on death row is a clear sign that, even with the best of intentions, the criminal justice system makes critical errors--errors which cannot be remedied once an execution occurs. Courts are allowing executions to go foward even in the presence of serious doubts about the defendant's guilt. The current emphasis on faster executions, less resources for the defense, and an expansion in the number of death cases means that the execution of innocent people is inevitable.\",\n",
       "   'Appendix',\n",
       "   'From: Innocence and the Death Penalty: Assessing the Danger of Mistaken Executions',\n",
       "   'Staff Report by the Subcommittee on Civil and Constitutional Rights, Committee on the Judiciary, 103rd Congress, 1st Session - October, 1993 (prepared with the assistance of the Death Penalty Information Center)',\n",
       "   'INMATES RELEASED FROM DEATH ROW SINCE 1970',\n",
       "   'At least 48 people have been released from prison after serving time on death row since 1970 with significant evidence of their innocence. In 43 of these cases, the defendant was subsequently acquitted, pardoned, or charges were dropped. In three of the cases, a compromise was reached and the defendants were immediately released upon pleading to a lesser offense. In the remaining two cases, one defendant was released when the parole board became convinced of his innocence, and the other was acquitted at a retrial of the capital charge but convicted of lesser related charges. These five cases are indicated with an asterisk (*).',\n",
       "   'YEAR OF RELEASE',\n",
       "   '1973',\n",
       "   '1. David Keaton Florida Conviction: 1971',\n",
       "   'Sentenced to death for murdering an off duty deputy sheriff during a robbery. Charges were dropped and he was released after the actual killer was convicted.',\n",
       "   '1975',\n",
       "   '2. Wilbert Lee Florida Conviction: 1963',\n",
       "   '3. Freddie Pitts Florida Conviction: 1963',\n",
       "   'They were convicted of a double murder and sentenced to death. They were released when they received a full pardon from Governor Askew because of their innocence. Another man had confessed to the killings.',\n",
       "   '1976',\n",
       "   '4. Thomas Gladish New Mexico Conviction: 1974',\n",
       "   '5. Richard Greer New Mexico Conviction: 1974',\n",
       "   '6. Ronald Keine New Mexico Conviction: 1974',\n",
       "   '7. Clarence Smith New Mexico Conviction: 1974',\n",
       "   \"The four were convicted of murder, kidnapping, sodomy, and rape and were sentenced to death. They were released after a drifter admitted to the killings and a newspaper investigation uncovered lies by the prosecution's star witness.\",\n",
       "   '1977',\n",
       "   '8. Delbert Tibbs Florida Conviction: 1974',\n",
       "   \"Sentenced to death for the rape of a sixteen-year-old and the murder of her companion. The conviction was overturned by the Florida Supreme Court because the verdict was not supported by the weight of the evidence. Tibbs' former prosecutor said that the original investigation had been tainted from the beginning.\",\n",
       "   '1978',\n",
       "   '9. Earl Charles Georgia Conviction: 1975',\n",
       "   'Convicted on two counts of murder and sentenced to death. He was released when evidence was found that substantiated his alibi. After an investigation, the district attorney announced that he would not retry the case. Charles won a substantial settlement from city officials for misconduct in the original investigation.',\n",
       "   '10. Jonathan Treadway Arizona Conviction: 1975',\n",
       "   'Convicted of sodomy and first degree murder of a six-year-old and sentenced to death. He was acquitted of all charges at retrial by the jury after 5 pathologists testified that the victim probably died of natural causes and that there was no evidence of sodomy.',\n",
       "   '1979',\n",
       "   '11. Gary Beeman Ohio Conviction: 1976',\n",
       "   'Convicted of aggravated murder and sentenced to death. Acquitted at the retrial when evidence showed that the true killer was the main prosecution witness at the first trial.',\n",
       "   '1980',\n",
       "   '12. Jerry Banks Georgia Conviction: 1975',\n",
       "   'Sentenced to death for two counts of murder. The conviction was overturned because the prosecution knowingly withheld exculpatory evidence. Banks committed suicide after his wife divorced him. His estate won a settlement from the county for the benefit of his children.',\n",
       "   '13. Larry Hicks Indiana Conviction: 1978',\n",
       "   \"Convicted on two counts of murder and sentenced to death. He was acquitted at the retrial when witnesses confirmed his alibi and when the eyewitness' testimony at the first trial was proved to have been perjured. The Playboy Foundation supplied funds for the reinvestigation.\",\n",
       "   '1981',\n",
       "   '14. Charles Ray Giddens Oklahoma Conviction: 1978',\n",
       "   'Conviction and death sentence reversed by the Oklahoma Court of Criminal Appeals on the grounds of insufficient evidence and the charges were dropped.',\n",
       "   '15. Michael Linder South Carolina Conviction: 1979',\n",
       "   'Linder was acquitted at the retrial on the grounds of self-defense.',\n",
       "   \"16. Johnny Ross Louisiana Conviction: 1975 Sentenced to death for rape. He was released when his blood type was found to be inconsistent with that of the rapist's.\",\n",
       "   '1982',\n",
       "   '17. Anibal Jarramillo Florida Conviction: 1981',\n",
       "   'Sentenced to death for two counts of first degree murder. He was released when the Florida Supreme Court ruled the evidence did not sustain the conviction.',\n",
       "   '18. Lawyer Johnson Massachusetts Conviction: 1971',\n",
       "   \"Sentenced to death for first degree murder. The charges were dropped when a previously silent eyewitness came forward and implicated the state's chief witness as the actual killer.\",\n",
       "   '1986',\n",
       "   '19. Anthony Brown Florida Conviction: 1983',\n",
       "   \"Convicted of first degree murder and sentenced to death. At the retrial, the state's chief witness admitted that his testimony at the first trial had been perjured and Brown was acquitted.\",\n",
       "   '20. Neil Ferber Pennsylvania Conviction: 1982',\n",
       "   \"Convicted of first degree murder and sentenced to death. He was released at the request of the state's attorney when new evidence showed that the conviction was based on the perjured testimony of a jail-house informant.\",\n",
       "   '1987',\n",
       "   '21. Joseph Green Brown Florida Conviction: 1974',\n",
       "   'Charges were dropped after the 11th Circuit Court of Appeals ruled that the prosecution had knowingly allowed false testimony to be introduced at trial. Brown came within 13 hours of execution.',\n",
       "   '22. Perry Cobb Illinois Conviction: 1979',\n",
       "   '23. Darby (Williams) Tillis Illinois Conviction: 1979',\n",
       "   \"They were convicted and sentenced to death for a double murder. They were acquitted at retrial when an assistant state attorney came forward and destroyed the credibility of the state's chief witness.\",\n",
       "   '24. Henry Drake* Georgia Conviction: 1977',\n",
       "   'Resentenced to a life sentence at his second retrial. Six months later, the parole board freed him, convinced he was exonerated by his alleged accomplice and by testimony from the medical examiner.',\n",
       "   '25. John Henry Knapp* Arizona Conviction: 1974',\n",
       "   'Knapp was originally sentenced to death for an arson murder of his two children. He was released in 1987 after new evidence about the cause of the fire prompted a judge to order a new trial. In 1991, his third trial resulted in a hung jury. Knapp was again released in 1992 after an agreement with the prosecutors in which he pleaded no contest to second degree murder. He has steadfastly maintained his innocence.',\n",
       "   '26. Vernon McManus Texas Conviction: 1977',\n",
       "   'After a new trial was ordered, the prosecution dropped the charges when a key prosecution witness refused to testify.',\n",
       "   '27. Anthony Ray Peek Florida Conviction: 1978',\n",
       "   'Convicted of murder and sentenced to death. His conviction was overturned when expert testimony was shown to be false. He was acquitted at his second retrial.',\n",
       "   '28. Juan Ramos Florida Conviction: 1983',\n",
       "   'Sentenced to death for rape and murder. The decision was vacated by the Florida Supreme Court because of improper use of evidence. At his retrial, he was acquitted.',\n",
       "   '29. Robert Wallace Georgia Conviction: 1980',\n",
       "   'Sentenced to death for the slaying of a police officer. The 11th Circuit ordered a retrial because Wallace had not been competent to stand trial. He was acquitted at the retrial because it was found that the shooting was accidental.',\n",
       "   '1988',\n",
       "   '30. Jerry Bigelow California Conviction: 1980',\n",
       "   'Convicted of murder and sentenced to death after acting as his own attorney. His conviction was overturned by the California Supreme Court and he was acquitted at the retrial.',\n",
       "   '31. Willie Brown Florida Conviction: 1983',\n",
       "   '32. Larry Troy Florida Conviction: 1983',\n",
       "   'Originally sentenced to death after being accused of stabbing a fellow prisoner, they were released when the evidence showed that the main witness at the trial had perjured himself.',\n",
       "   '33. William Jent* Florida Conviction: 1980',\n",
       "   '34. Earnest Miller* Florida Conviction: 1980',\n",
       "   \"A federal district court ordered a new trial because of suppression of exculpatory evidence. They were released immediately after agreeing to plead guilty to second degree murder. They repudiated their plea upon leaving the courtroom and were later awarded compensation by the Pasco County Sheriff's Dept. because of official errors.\",\n",
       "   '1989',\n",
       "   '35. Randall Dale Adams Texas Conviction: 1977',\n",
       "   \"He was ordered to be released pending a new trial by the Texas Court of Appeals. The prosecutors did not seek a new trial due to substantial evidence of Adam's innocence. Subject of the movie, The Thin Blue Line.\",\n",
       "   '36. Jesse Keith Brown* South Carolina Conviction: 1983',\n",
       "   'The conviction was reversed twice by the state Supreme Court. At the third trial he was acquitted of the capital charge but convicted of related robbery charges.',\n",
       "   '37. Robert Cox Florida Conviction: 1988',\n",
       "   'Released by a unanimous decision of the Florida Supreme Court on the basis of insufficient evidence.',\n",
       "   '38. Timothy Hennis North Carolina Conviction: 1986',\n",
       "   'Convicted of three counts of murder and sentenced to death. The State Supreme Court granted a retrial because of the use of inflammatory evidence. At the retrial, Hennis was acquitted.',\n",
       "   '39. James Richardson Florida Conviction: 1968',\n",
       "   \"Released after reexamination of the case by Janet Reno of the Miami State's Attorney's office which concluded he was innocent.\",\n",
       "   '1990',\n",
       "   '40. Clarence Brandley Texas Conviction: 1980',\n",
       "   'Awarded a new trial when evidence showed prosecutorial suppression of exculpatory evidence and perjury by prosecution witnesses. All charges were dropped. Brandley is the subject of the book White Lies by Nick Davies.',\n",
       "   '41. Patrick Croy California Conviction: 1979',\n",
       "   'Conviction overturned by state Supreme Court because of improper jury instructions. Acquitted at retrial after arguing self-defense.',\n",
       "   '42. John C. Skelton Texas Conviction: 1982',\n",
       "   'Convicted of killing a man by exploding dynamite in his pickup truck. The conviction was overturned by the Texas Court of Criminal Appeals due to insufficient evidence.',\n",
       "   '1991',\n",
       "   '43. Gary Nelson Georgia Conviction: 1980',\n",
       "   'Nelson was released after a review of the prosecutor\\'s files revealed that material information had been improperly withheld from the defense. The county district attorney acknowledged: \"There is no material element of the state\\'s case in the original trial which has not subsequently been determined to be impeached or contradicted.\"',\n",
       "   '44. Bradley P. Scott Florida Conviction: 1988',\n",
       "   'Convicted of murder ten years after the crime. On appeal, he was released by the Florida Supreme Court because of insufficiency of the evidence.',\n",
       "   '1993',\n",
       "   '45. Kirk Bloodsworth Maryland Conviction: 1984',\n",
       "   'Convicted and sentenced to death for the rape and murder of a young girl. He was granted a new trial and given a life sentence. He was released after subsequent DNA testing confirmed his innocence.',\n",
       "   '46. Federico M. Macias Texas Conviction: 1984',\n",
       "   'Convicted of the slaying of Robert Haney. He was granted a federal writ of habeas corpus because of ineffective assistance of counsel and possible innocence. A grand jury refused to reindict because of lack of evidence.',\n",
       "   '47. Walter (Johnny D) McMillian Alabama Conviction: 1988',\n",
       "   'Conviction was overturned by the Alabama Court of Criminal Appeals and was freed after three witnesses recanted their testimony and prosecutors agreed case had been mishandled.',\n",
       "   '48. Gregory R. Wilhoit Oklahoma Conviction: 1987',\n",
       "   'Convicted of killing his estranged wife while she slept. His conviction was overturned and he was released in 1991 when 11 forensic experts testified that a bite mark found on his dead wife did not belong to him. The appeals court also found ineffective assistance of counsel. He was acquitted at a retrial in April, 1993.',\n",
       "   'References',\n",
       "   '1 W. Brennan, Jr., Neither Victims nor Executioners, 8 Notre Dame J. of Law, Ethics & Public Policy 1, 4 (1994).',\n",
       "   '2See, e.g., H. Bedau & M. Radelet, Miscarriages of Justice in Potentially Capital Cases, 40 Stanford L. Rev. 21 (1987).',\n",
       "   '3Innocence and the Death Penalty: Assessing The Danger of Mistaken Executions, Staff Report, Subcommittee on Civil & Constitutional Rights, Committee on the Judiciary, 103 Cong., 1st Sess. (1993) (hereinafter Subcommittee Report).',\n",
       "   '4See S. Gross, The Risks of Death: Why Erroneous Convictions are Common in Capital Cases, 44 Buffalo L. Rev. 469 (1996).',\n",
       "   '5See Capital Punishment 1995 (1996), Bureau of Justice Statistics, at Table 11.',\n",
       "   '6See id., at Appendix Table 1.',\n",
       "   '7See R. Dieter, Killing for Votes: The Dangers of Politicizing the Death Penalty Process, Death Penalty Information Center (1996); see also generally Judicature Magazine, Jan.-Feb. 1997 (on judicial independence).',\n",
       "   \"8See E. M. McCann, Opposing Capital Punishment: A Prosecutor's Perspective, 79 Marquette L. Rev. 649, 667 (1996).\",\n",
       "   '9See L. Yackle, A Primer on the New Habeas Corpus Statute, 44 Buffalo L. Rev. 381, 391-92 (1996) (standards for presenting a second habeas petition considerably more rigid than before).',\n",
       "   \"10 Report in support of American Bar Association Resolution calling for a moratorium on executions, submitted by the Section on Individual Rights and Responsibilities (1997) (the resolution was passed by the ABA's House of Delegates on Feb. 3, 1997).\",\n",
       "   '11See Gross, note 4 above, at 475 ff.',\n",
       "   '12See D. Terry, Ex-Prosecutors and Deputies in Death Row Case are Charged with Framing Defendant, The N.Y. Times, Dec. 13, 1996, at A1',\n",
       "   '13See, e.g., R. Ofshe & R. Leo, The Social Psychology of Police Interrogation: The Theory and Classification of True and False Confessions, 16 Studies in Law, Politics and Society 189 (1997).',\n",
       "   '14See Gross, note 4, at 494 n.109 (citing studies).',\n",
       "   '15 Id. at 497.',\n",
       "   '16J. Wardlaw & J. Hodge, Execution Halted by Roemer, New Orleans Times-Picayune, Aug. 17, 1989, at 1.',\n",
       "   '17Model Penal Code (Proposed Official Draft 1962), American Law Institute.',\n",
       "   '18Gregg v. Georgia, 428 U.S. 153, 193 (1976).',\n",
       "   '19See note 17 above at section 210.6(1) (emphasis added).',\n",
       "   '20 Id., commentary (1980).',\n",
       "   '21See id. at section 210.6(3) for list of aggravators and mitigators.',\n",
       "   '22See Herrera v. Collins, 506 U.S. 390, 410-11 nn.8-11 (1993).',\n",
       "   '23Va. Sup. Ct. Rule 3A:15(b) (1996).',\n",
       "   '24See Herrera, 506 U.S. at 400 (\"federal habeas courts sit to ensure that individuals are not imprisoned in violation of the Constitution--not to correct errors of fact\").',\n",
       "   '25Id. at 417.',\n",
       "   '26Id. at 446 (Blackmun, J., dissenting).',\n",
       "   '27See Gross, note 4 above, at 499.',\n",
       "   '28Carriger v. Stewart, 95 F.3d 755, 759-60 (9th Cir. 1996) (emphasis added) (rehearing en banc granted, 106 F.3d 1415 (1997)) .',\n",
       "   '29Id. at 761 (emphasis added).',\n",
       "   '30Payne v. Netherland, 1996 WL 467642 (Westlaw), unpublished disposition, see 94 F.3d 642 (4th Cir. 1996).',\n",
       "   '31P. Finn & S. Hsu, On Execution Day, Allen Grants Clemency, The Washington Post, Nov. 8, 1996, at A1.',\n",
       "   '32Schlup v. Delo, 115 S. Ct. 851 (1995).',\n",
       "   '33Pub. L. No. 104-132, 110 Stat. 1214 (1996).',\n",
       "   \"34See Schlup v. Delo, slip opinion, No. 4:92CV443, at 4 n.4 (E.D. Mo., Dec. 8, 1995) (memorandum and order granting a hearing on the merits of Schlup's petition for a writ of habeas corpus); see also Retrial Ordered in Death Row Case, Kansas City Star, May 4, 1996 (new trial granted based on earlier hearing).\",\n",
       "   '35See B. Herbert, The Hanging Tree, The N.Y. Times, Jan. 6, 1997, at A17.',\n",
       "   '36See C. Castaneda, Death Penalty Centers Losing Support, Funds, USA Today, Oct. 24, 1995.',\n",
       "   '37The sources for each of the cases discussed below are available from the Death Penalty Information Center. See also M. Radelet, et al., Prisoners Released from Death Rows Since 1970 Because of Doubts About Their Guilt, 13 Cooley L. Rev. 907 (1996).',\n",
       "   \"38Governors have granted commutations of other defendants' death sentences because of doubts about their guilt. In an article about clemency in capital cases since 1972, the authors list 9 cases where doubt about guilt contributed to the governor's decision to lower a death sentence to a life sentence. See M. Radelet and B. Zsembik, Executive Clemency in Post-Furman Capital Cases, 27 U. of Richmond L. Rev. 289, 301 (1993).\",\n",
       "   '39See H. Bedau, note 2 above, at 71.',\n",
       "   \"40See, e.g., M. Allen, New Clues Fuel a Race with Electrocutioner's Clock, The N.Y. Times, May 8, 1992.\",\n",
       "   '41See Coleman v. Thompson, 501 U.S. 722 (1991).',\n",
       "   '42See Herrera v. Collins, 506 U.S. 390 (1993) (denying retrial petition based on innocence claim).',\n",
       "   '43See L. Greenhouse, Justices Deny Execution Stay for Man Conceded to be Innocent, The New York Times, Jan. 3, 1995, at A13 (quoting, Jacobs v. Scott, No. 94-7010 (U.S. Jan. 2, 1995) (Stevens, J., dissenting)).',\n",
       "   '44See Jacobs v. Scott, note 43 above.',\n",
       "   '45141 Cong. Rec. S817 (daily ed. Jan. 11, 1995).',\n",
       "   '46Resolution of European Parliament adopted 219-0 with one abstention (on file with the Death Penalty Information Center).',\n",
       "   \"47See S. Hsu, Inmate Executed in Virginia After Appeals Rejected, The Washington Post, Feb. 27, 1997 (J. Spencer had ruled in Gray's favor earlier).\",\n",
       "   '48See Subcommittee Report, note 3 above, at 13.',\n",
       "   '49See id. at 8.',\n",
       "   '50See id. at 14.',\n",
       "   '51See D. Terry, Ex-Prosecutors and Deputies in Death Row Case are Charged with Framing Defendant, The N.Y. Times, Dec. 13, 1996, at A18.',\n",
       "   '52See D. Terry, DNA Tests and a Confession Set Three on the Path to Freedom in 1978 Murders, The N. Y. Times, June 15, 1996.',\n",
       "   '53See Capital Punishment 1995 (1996), Bureau of Justice Statistics, Appendix Table 1 (5,580 sentenced to death through the end of 1995, with approximately 300 new death sentences per year).',\n",
       "   '54 M. Radelet, H. Bedau, C. Putnam, In Spite of Innocence 17 (1992).',\n",
       "   '55E. Connors et al., Convicted by Juries, Exonerated by Science: Case Studies in the Use of DNA Evidence to Establish Innocence After Trial, U.S. Dept. of Justice Research Report, June 1996, at 33, 44.',\n",
       "   '56 Id. at xxviii-ix.',\n",
       "   '57See note 10 above (Resolution).',\n",
       "   'Back To Top',\n",
       "   'Tweet',\n",
       "   '559905 reads',\n",
       "   'Home | RSS | About DPIC | Privacy Policy',\n",
       "   '©2018 Death Penalty Information Center'],\n",
       "  'paragraphs': ['by Richard C. Dieter, Esq. Executive Director, Death Penalty Information Center'],\n",
       "  'author': None},\n",
       " '_id': 1555,\n",
       " 'argument_score': '0.0',\n",
       " 'author': None,\n",
       " 'source': 'deathpenaltyinfo.org'}"
      ]
     },
     "execution_count": 4,
     "metadata": {},
     "output_type": "execute_result"
    }
   ],
   "source": [
    "data[0]"
   ]
  },
  {
   "cell_type": "code",
   "execution_count": 4,
   "metadata": {},
   "outputs": [],
   "source": [
    "subjects = [\"death penalty\", \"capital punishment\"]\n",
    "urls = set()\n",
    "texts = []\n",
    "total_count = 0\n",
    "document_count = 0\n",
    "for entry in data:\n",
    "    if entry[\"url\"] in urls:\n",
    "        continue\n",
    "    text = \"\"\n",
    "    for paragraph_group in entry.get(\"paragraph_groups\", []):\n",
    "        text += \"\\n\".join(paragraph_group) + \" \"\n",
    "    if len(text):\n",
    "        total_count += 1\n",
    "        urls.add(entry[\"url\"])\n",
    "    for subject in subjects:\n",
    "        if subject not in text:\n",
    "            continue\n",
    "        texts.append(text)\n",
    "        document_count += 1\n",
    "        break"
   ]
  },
  {
   "cell_type": "code",
   "execution_count": 5,
   "metadata": {},
   "outputs": [
    {
     "name": "stdout",
     "output_type": "stream",
     "text": [
      "Total count: 592\n",
      "Document count: 250\n"
     ]
    }
   ],
   "source": [
    "print(\"Total count: {}\".format(total_count))\n",
    "print(\"Document count: {}\".format(document_count))"
   ]
  },
  {
   "cell_type": "code",
   "execution_count": 15,
   "metadata": {},
   "outputs": [],
   "source": [
    "for key in entities.keys():\n",
    "    entities[key] = list(entities[key])"
   ]
  },
  {
   "cell_type": "code",
   "execution_count": 16,
   "metadata": {},
   "outputs": [],
   "source": [
    "with open(\"../data/entities.json\", \"w\") as file:\n",
    "    json.dump(entities, file)"
   ]
  },
  {
   "cell_type": "code",
   "execution_count": 6,
   "metadata": {},
   "outputs": [],
   "source": [
    "entities = {}\n",
    "for doc in nlp.pipe(texts, batch_size=32):\n",
    "    for ent in doc.ents:\n",
    "        if ent.label_ not in entities:\n",
    "            entities[ent.label_] = set([ent.text])\n",
    "        else:\n",
    "            entities[ent.label_].add(ent.text)"
   ]
  },
  {
   "cell_type": "code",
   "execution_count": 17,
   "metadata": {},
   "outputs": [
    {
     "data": {
      "text/plain": [
       "['\\nVisiting Criminal Law Scholar',\n",
       " 'Musée d’histoire vivante',\n",
       " 'Jurisprudence',\n",
       " 'HKT',\n",
       " 'Meet Me',\n",
       " 'Amazon Best Book of the Year',\n",
       " 'Women on Death Row',\n",
       " '48 Hours',\n",
       " 'Investigation into Death Row',\n",
       " 'See Arbitrariness']"
      ]
     },
     "execution_count": 17,
     "metadata": {},
     "output_type": "execute_result"
    }
   ],
   "source": [
    "entities[\"WORK_OF_ART\"][:10]"
   ]
  },
  {
   "cell_type": "code",
   "execution_count": 10,
   "metadata": {},
   "outputs": [
    {
     "name": "stdout",
     "output_type": "stream",
     "text": [
      "ORG 1679\n",
      "CARDINAL 458\n",
      "NORP 142\n",
      "GPE 604\n",
      "PRODUCT 30\n",
      "DATE 1175\n",
      "TIME 126\n",
      "PERSON 1603\n",
      "EVENT 104\n",
      "PERCENT 138\n",
      "ORDINAL 39\n",
      "WORK_OF_ART 178\n",
      "LOC 54\n",
      "LAW 66\n",
      "FAC 65\n",
      "LANGUAGE 4\n",
      "MONEY 48\n",
      "QUANTITY 33\n"
     ]
    }
   ],
   "source": [
    "for type_, ents in entities.items():\n",
    "    print(type_, len(ents))"
   ]
  },
  {
   "cell_type": "code",
   "execution_count": 7,
   "metadata": {},
   "outputs": [],
   "source": [
    "def entity_tokenizer(text):\n",
    "    doc = nlp(text)\n",
    "    return [ent.text.replace(\" \", \"_\") for ent in doc.ents if ent.label_ == \"PERSON\" and \" \" in ent.text]        "
   ]
  },
  {
   "cell_type": "code",
   "execution_count": 8,
   "metadata": {},
   "outputs": [],
   "source": [
    "def texts_for_feature(feature):\n",
    "    pattern = feature.replace(\"_\", \" \").casefold()\n",
    "    for text in texts:\n",
    "        if pattern in text.casefold():\n",
    "            yield text"
   ]
  },
  {
   "cell_type": "code",
   "execution_count": null,
   "metadata": {},
   "outputs": [],
   "source": []
  },
  {
   "cell_type": "code",
   "execution_count": 9,
   "metadata": {},
   "outputs": [
    {
     "name": "stderr",
     "output_type": "stream",
     "text": [
      "/Users/fako/miniconda3/envs/ml/lib/python3.6/site-packages/sklearn/feature_extraction/text.py:1059: FutureWarning: Conversion of the second argument of issubdtype from `float` to `np.floating` is deprecated. In future, it will be treated as `np.float64 == np.dtype(float).type`.\n",
      "  if hasattr(X, 'dtype') and np.issubdtype(X.dtype, np.float):\n"
     ]
    }
   ],
   "source": [
    "from sklearn.feature_extraction.text import TfidfVectorizer\n",
    "tfidf_entities = TfidfVectorizer(tokenizer=entity_tokenizer)\n",
    "tfidf_entities.fit(texts)\n",
    "tfidf_vectors = tfidf_entities.transform(texts)\n",
    "feature_names = tfidf_entities.get_feature_names()\n",
    "tfidf_frame = pd.DataFrame(tfidf_vectors.toarray(), columns=feature_names)"
   ]
  },
  {
   "cell_type": "code",
   "execution_count": null,
   "metadata": {},
   "outputs": [],
   "source": [
    "feature_names"
   ]
  },
  {
   "cell_type": "code",
   "execution_count": 12,
   "metadata": {},
   "outputs": [],
   "source": [
    "tfidf_words_sorted = tfidf_frame.sum(axis=0).sort_values(ascending=False)"
   ]
  },
  {
   "cell_type": "code",
   "execution_count": null,
   "metadata": {},
   "outputs": [],
   "source": [
    "tfidf_frame"
   ]
  },
  {
   "cell_type": "code",
   "execution_count": 13,
   "metadata": {},
   "outputs": [
    {
     "data": {
      "text/plain": [
       " _            7.0\n",
       "david_earl    1.0\n",
       "al_matin      1.0\n",
       "dtype: float64"
      ]
     },
     "execution_count": 13,
     "metadata": {},
     "output_type": "execute_result"
    }
   ],
   "source": [
    "tfidf_words_sorted[:20]"
   ]
  },
  {
   "cell_type": "code",
   "execution_count": 13,
   "metadata": {},
   "outputs": [],
   "source": [
    "sorted_idf_entities = tfidf_entities.idf_.argsort()"
   ]
  },
  {
   "cell_type": "code",
   "execution_count": 14,
   "metadata": {},
   "outputs": [],
   "source": [
    "entities_features = tfidf_entities.get_feature_names()"
   ]
  },
  {
   "cell_type": "code",
   "execution_count": 18,
   "metadata": {},
   "outputs": [
    {
     "data": {
      "text/plain": [
       "{'antonin_scalia': 4.838624840473278,\n",
       " '\\n_\\n': 4.838624840473278,\n",
       " 'carlos_hernandez': 5.005678925136444,\n",
       " 'rick_perry': 5.100989104940769,\n",
       " 'carlos_deluna': 5.206349620598596,\n",
       " 'bryan_stevenson': 5.206349620598596,\n",
       " 'martin_luther_king': 5.324132656254979,\n",
       " 'george_w.': 5.324132656254979,\n",
       " 'wanda_lopez': 5.324132656254979,\n",
       " 'charles_manson': 5.324132656254979,\n",
       " 'clarence_thomas': 5.324132656254979,\n",
       " 'cameron_todd_willingham': 5.324132656254979,\n",
       " 'john_paul_stevens': 5.457664048879502,\n",
       " 'bernie_sanders': 5.61181472870676,\n",
       " 'clarence_smith': 5.61181472870676,\n",
       " 'troy_davis': 5.61181472870676,\n",
       " 'robert_dunham': 5.61181472870676,\n",
       " '__': 5.61181472870676,\n",
       " 'walter_mcmillian': 5.61181472870676,\n",
       " 'george_ryan': 5.61181472870676}"
      ]
     },
     "execution_count": 18,
     "metadata": {},
     "output_type": "execute_result"
    }
   ],
   "source": [
    "{entities_features[ix]:tfidf_entities.idf_[ix] for ix in sorted_idf_entities[:20]}"
   ]
  },
  {
   "cell_type": "code",
   "execution_count": null,
   "metadata": {},
   "outputs": [],
   "source": [
    "antonin_scalia = texts_for_feature(\"antonin_scalia\")"
   ]
  },
  {
   "cell_type": "code",
   "execution_count": null,
   "metadata": {},
   "outputs": [],
   "source": [
    "antonin_scalia_texts = list(antonin_scalia)"
   ]
  },
  {
   "cell_type": "code",
   "execution_count": null,
   "metadata": {},
   "outputs": [],
   "source": [
    "antonin_scalia_texts"
   ]
  },
  {
   "cell_type": "code",
   "execution_count": null,
   "metadata": {},
   "outputs": [],
   "source": [
    "antonin_scalia_vectors = tfidf_entities.transform(antonin_scalia_texts)"
   ]
  },
  {
   "cell_type": "code",
   "execution_count": null,
   "metadata": {},
   "outputs": [],
   "source": [
    "antonin_scalia_frame = pd.DataFrame(antonin_scalia_vectors.toarray(), columns=word_feature_names)"
   ]
  },
  {
   "cell_type": "code",
   "execution_count": null,
   "metadata": {},
   "outputs": [],
   "source": [
    "antonin_scalia_frame.shape"
   ]
  },
  {
   "cell_type": "code",
   "execution_count": null,
   "metadata": {},
   "outputs": [],
   "source": [
    "feature_names = tfidf_entities.get_feature_names()"
   ]
  },
  {
   "cell_type": "code",
   "execution_count": null,
   "metadata": {},
   "outputs": [],
   "source": [
    "# Create tfidf vectorizer\n",
    "tfidf_vectorizer = TfidfVectorizer(stop_words=\"english\")\n",
    "tfidf_vectorizer.fit(texts)\n",
    "# Easily lookup for feature numbers to words\n",
    "index_to_word = {ix: word for word, ix in tfidf_vectorizer.vocabulary_.items()}\n",
    "word_feature_names = tfidf_vectorizer.get_feature_names()\n",
    "tfidf_vectors = tfidf_vectorizer.transform(texts)\n",
    "corpus_frame = pd.DataFrame(tfidf_vectors.toarray(), columns=word_feature_names)"
   ]
  },
  {
   "cell_type": "code",
   "execution_count": null,
   "metadata": {},
   "outputs": [],
   "source": [
    "def get_sorted_feature_vocabulary(feature, normalize=True):\n",
    "    feature_texts = texts_for_feature(feature)\n",
    "    feature_vectors = tfidf_vectorizer.transform(feature_texts)\n",
    "    frame = pd.DataFrame(feature_vectors.toarray(), columns=word_feature_names)\n",
    "    print(frame.shape)\n",
    "    if not normalize:\n",
    "        return frame.sum(axis=0).sort_values(ascending=False)\n",
    "    rows = frame.shape[0]\n",
    "    corpus_mean = corpus_frame.mean(axis=0)\n",
    "    corpus_std = corpus_frame.std(axis=0)\n",
    "    frame_sum = frame.sum(axis=0)\n",
    "    normalized = (frame_sum - corpus_mean) / corpus_std\n",
    "    return normalized.sort_values(ascending=False)"
   ]
  },
  {
   "cell_type": "code",
   "execution_count": null,
   "metadata": {},
   "outputs": [],
   "source": [
    "antonin_scalia_words_normed = get_sorted_feature_vocabulary(\"antonin_scalia\")"
   ]
  },
  {
   "cell_type": "code",
   "execution_count": null,
   "metadata": {},
   "outputs": [],
   "source": [
    "antonin_scalia_words_sorted"
   ]
  },
  {
   "cell_type": "code",
   "execution_count": null,
   "metadata": {},
   "outputs": [],
   "source": [
    "antonin_scalia_words_normed"
   ]
  },
  {
   "cell_type": "code",
   "execution_count": 19,
   "metadata": {},
   "outputs": [
    {
     "data": {
      "text/plain": [
       "2245"
      ]
     },
     "execution_count": 19,
     "metadata": {},
     "output_type": "execute_result"
    }
   ],
   "source": [
    "len(feature_names)"
   ]
  },
  {
   "cell_type": "code",
   "execution_count": null,
   "metadata": {},
   "outputs": [],
   "source": [
    "get_sorted_feature_vocabulary(\"bryan_stevenson\", normalize=False)"
   ]
  },
  {
   "cell_type": "code",
   "execution_count": null,
   "metadata": {},
   "outputs": [],
   "source": [
    "get_sorted_feature_vocabulary(\"bryan_stevenson\")"
   ]
  },
  {
   "cell_type": "code",
   "execution_count": null,
   "metadata": {},
   "outputs": [],
   "source": [
    "get_sorted_feature_vocabulary(\"carlos_hernandez\")"
   ]
  },
  {
   "cell_type": "code",
   "execution_count": null,
   "metadata": {},
   "outputs": [],
   "source": [
    "get_sorted_feature_vocabulary(\"martin_luther_king\")"
   ]
  },
  {
   "cell_type": "code",
   "execution_count": null,
   "metadata": {},
   "outputs": [],
   "source": [
    "get_sorted_feature_vocabulary(\"rick_perry\")"
   ]
  }
 ],
 "metadata": {
  "kernelspec": {
   "display_name": "Python [default]",
   "language": "python",
   "name": "python3"
  },
  "language_info": {
   "codemirror_mode": {
    "name": "ipython",
    "version": 3
   },
   "file_extension": ".py",
   "mimetype": "text/x-python",
   "name": "python",
   "nbconvert_exporter": "python",
   "pygments_lexer": "ipython3",
   "version": "3.6.6"
  },
  "varInspector": {
   "cols": {
    "lenName": 16,
    "lenType": 16,
    "lenVar": 40
   },
   "kernels_config": {
    "python": {
     "delete_cmd_postfix": "",
     "delete_cmd_prefix": "del ",
     "library": "var_list.py",
     "varRefreshCmd": "print(var_dic_list())"
    },
    "r": {
     "delete_cmd_postfix": ") ",
     "delete_cmd_prefix": "rm(",
     "library": "var_list.r",
     "varRefreshCmd": "cat(var_dic_list()) "
    }
   },
   "types_to_exclude": [
    "module",
    "function",
    "builtin_function_or_method",
    "instance",
    "_Feature"
   ],
   "window_display": false
  }
 },
 "nbformat": 4,
 "nbformat_minor": 2
}
