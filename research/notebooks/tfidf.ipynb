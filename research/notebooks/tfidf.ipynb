{
 "cells": [
  {
   "cell_type": "code",
   "execution_count": 1,
   "metadata": {},
   "outputs": [],
   "source": [
    "%load_ext autoreload\n",
    "%autoreload 2\n",
    "\n",
    "import sys\n",
    "sys.path.append('../')"
   ]
  },
  {
   "cell_type": "code",
   "execution_count": 2,
   "metadata": {},
   "outputs": [],
   "source": [
    "import json\n",
    "\n",
    "import numpy as np\n",
    "import pandas as pd\n",
    "from sklearn.feature_extraction.text import TfidfVectorizer, CountVectorizer\n",
    "import spacy\n",
    "from spacy.lang.nl.stop_words import STOP_WORDS\n",
    "\n",
    "from readers import JsonReader\n",
    "from analysis import TopicDetector"
   ]
  },
  {
   "cell_type": "code",
   "execution_count": 3,
   "metadata": {},
   "outputs": [],
   "source": [
    "nlp = spacy.load(\"en_core_web_lg\")\n",
    "json_reader = JsonReader(source=\"death_penalty.json\", subjects=[\"death penalty\", \"capital punishment\"])\n",
    "texts = json_reader.get_texts()\n",
    "#from data.biomass import *\n",
    "#texts = [TEXT_1, TEXT_2, TEXT_3]"
   ]
  },
  {
   "cell_type": "code",
   "execution_count": 4,
   "metadata": {},
   "outputs": [],
   "source": [
    "def get_word_frame(texts, ngram):\n",
    "    tfidf_vectorizer = TfidfVectorizer(stop_words=STOP_WORDS, ngram_range=(ngram, ngram))\n",
    "    tfidf_vectorizer.fit(texts)\n",
    "    feature_names = tfidf_vectorizer.get_feature_names()\n",
    "    tfidf_vectors = tfidf_vectorizer.transform(texts)\n",
    "    frame = pd.DataFrame(tfidf_vectors.toarray(), columns=feature_names)\n",
    "    if ngram == 1:\n",
    "        number_features = [feature for feature in feature_names if not feature.isalpha()]\n",
    "        frame.drop(labels=number_features, axis=1, inplace=True)\n",
    "    return frame"
   ]
  },
  {
   "cell_type": "code",
   "execution_count": null,
   "metadata": {},
   "outputs": [],
   "source": []
  },
  {
   "cell_type": "code",
   "execution_count": null,
   "metadata": {},
   "outputs": [],
   "source": [
    "tfidf_frame = get_word_frame(texts, 1)\n",
    "tfidf_words_sorted = tfidf_frame.sum(axis=0).sort_values(ascending=False)\n",
    "\n",
    "#bi_frame = get_word_frame(texts, 2)\n",
    "#tfidf_words_sorted_bi = bi_frame.sum(axis=0).sort_values(ascending=False)\n",
    "#tri_frame = get_word_frame(texts, 3)\n",
    "#tfidf_words_sorted_tri = tri_frame.sum(axis=0).sort_values(ascending=False)\n",
    "#tetra_frame = get_word_frame(texts, 4)\n",
    "#tfidf_words_sorted_tetra = tetra_frame.sum(axis=0).sort_values(ascending=False)"
   ]
  },
  {
   "cell_type": "code",
   "execution_count": null,
   "metadata": {},
   "outputs": [],
   "source": [
    "with pd.option_context('display.max_rows', None, 'display.max_columns', 5):\n",
    "    print(tfidf_words_sorted)\n",
    "\n",
    "#tfidf_words_sorted_bi\n",
    "#tfidf_words_sorted_tri\n",
    "#tfidf_words_sorted_tetra"
   ]
  },
  {
   "cell_type": "code",
   "execution_count": null,
   "metadata": {},
   "outputs": [],
   "source": [
    "all_words = tfidf_words_sorted.index.tolist()\n",
    "all_tokens = list(map(lambda word: nlp.vocab[word], all_words))\n",
    "most_important_tokens = all_tokens[:50]\n",
    "for important_token in most_important_tokens:\n",
    "    similarities = []\n",
    "    for token in all_tokens:\n",
    "        if token is important_token:\n",
    "            continue\n",
    "        similarities.append((token.text, important_token.similarity(token),))\n",
    "    similarities = sorted(similarities, key=lambda item: item[1])\n",
    "    print(important_token.text)\n",
    "    print(\"*\" * 10 + \"most similar\" + \"*\" * 10)\n",
    "    most_similar = similarities[-5:]\n",
    "    most_similar.reverse()\n",
    "    print(\"\\n\".join(\n",
    "        \"{0} {1:.2f}\".format(word, similarity)\n",
    "        for word, similarity in most_similar\n",
    "    ))\n",
    "    print(\"*\" * 10 + \"most different\" + \"*\" * 10)\n",
    "    print(\"\\n\".join(\n",
    "        \"{0} {1:.2f}\".format(word, similarity)\n",
    "        for word, similarity in similarities[:5]\n",
    "    ))\n",
    "    print()\n",
    "    print()"
   ]
  },
  {
   "cell_type": "code",
   "execution_count": null,
   "metadata": {},
   "outputs": [],
   "source": [
    "all_words = tfidf_words_sorted.index.tolist()\n",
    "least_important_words = all_words[500:]\n",
    "most_important_frame = tfidf_frame.drop(labels=least_important_words, axis=1)\n",
    "\n",
    "most_important_cooccurence = most_important_frame.T.dot(most_important_frame)\n",
    "#np.fill_diagonal(most_important_cooccurence.values, 0)\n",
    "#most_important_cooccurence = most_important_cooccurence.applymap(lambda v: v if v >= 0.3 else 0.0)\n",
    "\n",
    "most_important_cooccurence"
   ]
  },
  {
   "cell_type": "code",
   "execution_count": null,
   "metadata": {},
   "outputs": [],
   "source": [
    "mic_sum = most_important_cooccurence.sum(axis=0).sort_values()\n",
    "mic_sum"
   ]
  },
  {
   "cell_type": "code",
   "execution_count": null,
   "metadata": {},
   "outputs": [],
   "source": [
    "life_text_ixs = tfidf_frame[\"life\"].argsort()[::-1]\n",
    "justice_text_ixs = tfidf_frame[\"justice\"].argsort()[::-1]\n",
    "court_text_ixs = tfidf_frame[\"court\"].argsort()[::-1]\n",
    "law_text_ixs = tfidf_frame[\"law\"].argsort()[::-1]\n",
    "reward_text_ids = tfidf_frame[\"reward\"].argsort()[::-1]"
   ]
  },
  {
   "cell_type": "code",
   "execution_count": null,
   "metadata": {},
   "outputs": [],
   "source": [
    "life_text_ixs = tfidf_frame[\"life\"].argsort()\n",
    "justice_text_ixs = tfidf_frame[\"justice\"].argsort()\n",
    "court_text_ixs = tfidf_frame[\"court\"].argsort()\n",
    "law_text_ixs = tfidf_frame[\"law\"].argsort()\n",
    "reward_text_ids = tfidf_frame[\"reward\"].argsort()"
   ]
  },
  {
   "cell_type": "code",
   "execution_count": null,
   "metadata": {},
   "outputs": [],
   "source": [
    "texts[life_text_ixs.iloc[0]]"
   ]
  },
  {
   "cell_type": "code",
   "execution_count": null,
   "metadata": {},
   "outputs": [],
   "source": [
    "texts[justice_text_ixs.iloc[2]]"
   ]
  },
  {
   "cell_type": "code",
   "execution_count": null,
   "metadata": {},
   "outputs": [],
   "source": [
    "texts[court_text_ixs.iloc[0]]"
   ]
  },
  {
   "cell_type": "code",
   "execution_count": null,
   "metadata": {},
   "outputs": [],
   "source": [
    "texts[law_text_ixs.iloc[2]]"
   ]
  },
  {
   "cell_type": "code",
   "execution_count": null,
   "metadata": {},
   "outputs": [],
   "source": [
    "texts[reward_text_ids.iloc[5]]"
   ]
  },
  {
   "cell_type": "code",
   "execution_count": null,
   "metadata": {},
   "outputs": [],
   "source": [
    "mins = most_important_cooccurence.min()\n",
    "nzeros = mins[mins > 0]\n",
    "frame = most_important_cooccurence.drop(labels=nzeros.index, axis=0)\n",
    "frame = frame.drop(labels=nzeros.index, axis=1)\n",
    "frame.shape"
   ]
  },
  {
   "cell_type": "code",
   "execution_count": null,
   "metadata": {},
   "outputs": [],
   "source": [
    "nodes = [{\"name\": column, \"group\": 0} for column in frame.columns]\n",
    "node_names = [node[\"name\"] for node in nodes]\n",
    "links = [{\"source\": node_names.index(column), \"target\": node_names.index(key), \"value\": 1} for column, row in frame.iteritems() for key, value in row.iteritems() if value == 0]\n",
    "with open(\"../data/cooccurence-graph.json\", \"w\") as file:\n",
    "    json.dump({\n",
    "        \"nodes\": nodes,\n",
    "        \"links\": links\n",
    "    }, file, indent=4)"
   ]
  },
  {
   "cell_type": "code",
   "execution_count": 5,
   "metadata": {},
   "outputs": [
    {
     "name": "stderr",
     "output_type": "stream",
     "text": [
      "/Users/fako/miniconda3/envs/ml/lib/python3.6/site-packages/sklearn/feature_extraction/text.py:1059: FutureWarning: Conversion of the second argument of issubdtype from `float` to `np.floating` is deprecated. In future, it will be treated as `np.float64 == np.dtype(float).type`.\n",
      "  if hasattr(X, 'dtype') and np.issubdtype(X.dtype, np.float):\n"
     ]
    },
    {
     "name": "stdout",
     "output_type": "stream",
     "text": [
      "{'cdata cdata cdata', 'international covenant civil', 'penalty information center', 'death penalty information', 'civil political rights', 'covenant civil political'}\n",
      "{'cruel unusual', 'unusual punishment', 'information center', 'death row', 'cdata cdata', 'use death', 'york times', 'international covenant', 'covenant civil', 'new york', 'rights defenders', 'row phenomenon', 'row inmates', 'international human', 'support death', 'penalty cases', 'abolished death', 'row prisoners', 'abolition death', 'civil political', 'rights watch', 'death penalty', 'political rights', 'mandatory death', 'row inmate', 'inhuman degrading', 'degrading treatment', 'people death', 'seek death', 'years death', 'treatment punishment', 'abolish death', 'human rights', 'cruel inhuman', 'penalty information'}\n",
      "{'department', 'support', 'scene', 'inhuman', 'evidence', 'families', 'abolished', 'http', 'took', 'trafficking', 'eye', 'drug', 'justice', 'lethal', 'murder', 'officer', 'york', 'killer', 'times', 'political', 'rape', 'post', 'ago', 'degree', 'electric', 'execution', 'life', 'crimes', 'possibility', 'inmate', 'appeal', 'testing', 'www', 'council', 'high', 'amendment', 'party', 'appeals', 'treatment', 'arabia', 'dangerous', 'states', 'related', 'civil', 'place', 'carolina', 'mental', 'watch', 'district', 'offenders', 'moriarty', 'general', 'public', 'chair', 'human', 'family', 'united', 'recent', 'right', 'new', 'act', 'secretary', 'parole', 'year', 'court', 'wrongful', 'punishment', 'corrections', 'man', 'serial', 'privy', 'convicted', 'jamal', 'school', 'nations', 'penalty', 'health', 'abu', 'center', 'trial', 'convictions', 'later', 'information', 'people', 'years', 'prosecutor', 'person', 'don', 'international', 'imprisonment', 'officers', 'supreme', 'county', 'angeles', 'seek', 'ruled', 'law', 'dna', 'committed', 'inmates', 'commit', 'cases', 'iranian', 'rights', 'injection', 'victims', 'conviction', 'asked', 'authorities', 'defenders', 'capital', 'state', 'method', 'criminal', 'cdata', 'innocent', 'executing', 'sentenced', 'confinement', 'row', 'unusual', 'sentences', 'sentence', 'police', 'north', 'juvenile', 'saudi', 'degrading', 'did', 'old', 'drugs', 'cruel', 'mandatory', 'members', 'phenomenon', 'prisoners', 'abolition', 'eighth', 'covenant', 'effect', 'amnesty', 'solitary', 'attorney', 'enforcement', 'los', 'prison', 'executed', 'crime', 'penal', 'use', 'deterrent', 'know', 'abolish', 'death', '20', 'fair', 'code'}\n"
     ]
    }
   ],
   "source": [
    "td = TopicDetector()\n",
    "td(texts)"
   ]
  },
  {
   "cell_type": "code",
   "execution_count": 11,
   "metadata": {},
   "outputs": [
    {
     "data": {
      "text/plain": [
       "death penalty information center          1.041669\n",
       "cdata cdata cdata cdata                   0.999750\n",
       "international covenant civil political    0.970888\n",
       "covenant civil political rights           0.961743\n",
       "dtype: float64"
      ]
     },
     "execution_count": 11,
     "metadata": {},
     "output_type": "execute_result"
    }
   ],
   "source": [
    "#td.sorted_ngrams[2]\n",
    "\n",
    "#td.sorted_ngrams[3]\n",
    "td.sorted_ngrams[4]\n",
    "#td.sorted_ngrams[1]"
   ]
  },
  {
   "cell_type": "code",
   "execution_count": 19,
   "metadata": {},
   "outputs": [],
   "source": [
    "results = []\n",
    "for ix, serie in td.sorted_ngrams.items():\n",
    "    results += [(topic, len(topic.split(\" \")), importance) for topic, importance in serie[:10].items()]\n",
    "results.sort(key=lambda result: (result[1], result[2],), reverse=True)\n",
    "    "
   ]
  },
  {
   "cell_type": "code",
   "execution_count": 16,
   "metadata": {},
   "outputs": [
    {
     "data": {
      "text/plain": [
       "[('said', 1, 21.037530811737554),\n",
       " ('case', 1, 12.865137530695028),\n",
       " ('time', 1, 10.095929899088123),\n",
       " ('executions', 1, 10.077820107213585),\n",
       " ('mr', 1, 9.902615493435691),\n",
       " ('just', 1, 7.911555309169307),\n",
       " ('like', 1, 7.875731745235997),\n",
       " ('government', 1, 7.743277278129479),\n",
       " ('judge', 1, 7.546269919810048),\n",
       " ('texas', 1, 7.305590258000421),\n",
       " ('capital punishment', 2, 9.775320590656285),\n",
       " ('supreme court', 2, 7.065976598922405),\n",
       " ('sentenced death', 2, 5.354700885655385),\n",
       " ('death sentence', 2, 5.260773155454801),\n",
       " ('amnesty international', 2, 5.07166512553193),\n",
       " ('united states', 2, 4.853117253939576),\n",
       " ('death sentences', 2, 4.075661771929752),\n",
       " ('year old', 2, 3.854297472649489),\n",
       " ('criminal justice', 2, 3.3567607217501307),\n",
       " ('lethal injection', 2, 3.280613337761099),\n",
       " ('use death penalty', 3, 2.455883020586902),\n",
       " ('support death penalty', 3, 2.246474513464155),\n",
       " ('death row inmates', 3, 2.1472849609099067),\n",
       " ('death penalty cases', 3, 1.841431711311112),\n",
       " ('mandatory death penalty', 3, 1.5805682327037942),\n",
       " ('death row inmate', 3, 1.4605547783248343),\n",
       " ('abolished death penalty', 3, 1.442974231780669),\n",
       " ('human rights watch', 3, 1.441078915050974),\n",
       " ('abolish death penalty', 3, 1.3944340772055757),\n",
       " ('new york times', 3, 1.3505360450430923),\n",
       " ('death penalty information center', 4, 1.0416691278266346),\n",
       " ('cdata cdata cdata cdata', 4, 0.9997500205914415),\n",
       " ('international covenant civil political', 4, 0.97088836028874),\n",
       " ('covenant civil political rights', 4, 0.9617425578637402)]"
      ]
     },
     "execution_count": 16,
     "metadata": {},
     "output_type": "execute_result"
    }
   ],
   "source": [
    "results"
   ]
  },
  {
   "cell_type": "code",
   "execution_count": 20,
   "metadata": {},
   "outputs": [
    {
     "data": {
      "text/plain": [
       "[('death penalty information center', 1.0416691278266346),\n",
       " ('cdata cdata cdata cdata', 0.9997500205914415),\n",
       " ('international covenant civil political', 0.97088836028874),\n",
       " ('covenant civil political rights', 0.9617425578637402),\n",
       " ('use death penalty', 2.455883020586902),\n",
       " ('support death penalty', 2.246474513464155),\n",
       " ('death row inmates', 2.1472849609099067),\n",
       " ('death penalty cases', 1.841431711311112),\n",
       " ('mandatory death penalty', 1.5805682327037942),\n",
       " ('death row inmate', 1.4605547783248343),\n",
       " ('abolished death penalty', 1.442974231780669),\n",
       " ('human rights watch', 1.441078915050974),\n",
       " ('abolish death penalty', 1.3944340772055757),\n",
       " ('new york times', 1.3505360450430923),\n",
       " ('capital punishment', 9.775320590656285),\n",
       " ('supreme court', 7.065976598922405),\n",
       " ('sentenced death', 5.354700885655385),\n",
       " ('death sentence', 5.260773155454801),\n",
       " ('amnesty international', 5.07166512553193),\n",
       " ('united states', 4.853117253939576),\n",
       " ('death sentences', 4.075661771929752),\n",
       " ('year old', 3.854297472649489),\n",
       " ('criminal justice', 3.3567607217501307),\n",
       " ('lethal injection', 3.280613337761099),\n",
       " ('said', 21.037530811737554),\n",
       " ('case', 12.865137530695028),\n",
       " ('time', 10.095929899088123),\n",
       " ('executions', 10.077820107213585),\n",
       " ('mr', 9.902615493435691),\n",
       " ('just', 7.911555309169307),\n",
       " ('like', 7.875731745235997),\n",
       " ('government', 7.743277278129479),\n",
       " ('judge', 7.546269919810048),\n",
       " ('texas', 7.305590258000421)]"
      ]
     },
     "execution_count": 20,
     "metadata": {},
     "output_type": "execute_result"
    }
   ],
   "source": [
    "[\n",
    "            (topic, importance,)\n",
    "            for topic, word_count, importance in\n",
    "            results\n",
    "        ]"
   ]
  },
  {
   "cell_type": "code",
   "execution_count": null,
   "metadata": {},
   "outputs": [],
   "source": []
  }
 ],
 "metadata": {
  "kernelspec": {
   "display_name": "Python [conda env:ml]",
   "language": "python",
   "name": "conda-env-ml-py"
  },
  "language_info": {
   "codemirror_mode": {
    "name": "ipython",
    "version": 3
   },
   "file_extension": ".py",
   "mimetype": "text/x-python",
   "name": "python",
   "nbconvert_exporter": "python",
   "pygments_lexer": "ipython3",
   "version": "3.6.6"
  },
  "varInspector": {
   "cols": {
    "lenName": 16,
    "lenType": 16,
    "lenVar": 40
   },
   "kernels_config": {
    "python": {
     "delete_cmd_postfix": "",
     "delete_cmd_prefix": "del ",
     "library": "var_list.py",
     "varRefreshCmd": "print(var_dic_list())"
    },
    "r": {
     "delete_cmd_postfix": ") ",
     "delete_cmd_prefix": "rm(",
     "library": "var_list.r",
     "varRefreshCmd": "cat(var_dic_list()) "
    }
   },
   "types_to_exclude": [
    "module",
    "function",
    "builtin_function_or_method",
    "instance",
    "_Feature"
   ],
   "window_display": false
  }
 },
 "nbformat": 4,
 "nbformat_minor": 2
}
