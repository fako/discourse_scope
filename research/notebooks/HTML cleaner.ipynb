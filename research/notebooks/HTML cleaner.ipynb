{
 "cells": [
  {
   "cell_type": "code",
   "execution_count": 1,
   "metadata": {},
   "outputs": [],
   "source": [
    "import json\n",
    "\n",
    "import numpy as np\n",
    "import pandas as pd\n",
    "import spacy"
   ]
  },
  {
   "cell_type": "code",
   "execution_count": 2,
   "metadata": {},
   "outputs": [],
   "source": [
    "nlp = spacy.load(\"en_core_web_sm\")"
   ]
  },
  {
   "cell_type": "code",
   "execution_count": 3,
   "metadata": {},
   "outputs": [],
   "source": [
    "with open(\"../data/death_penalty.json\") as file:\n",
    "    data = json.load(file)"
   ]
  },
  {
   "cell_type": "markdown",
   "metadata": {},
   "source": [
    "Home page text comparison\n",
    "=======================\n",
    "\n",
    "Our first strategy is to compare HTML from a homepage to the HTML of the article. We strip out any HTML that is also on the homepage."
   ]
  },
  {
   "cell_type": "code",
   "execution_count": 4,
   "metadata": {},
   "outputs": [],
   "source": [
    "import hashlib\n",
    "from difflib import HtmlDiff\n",
    "from bs4 import BeautifulSoup\n",
    "from bs4.element import NavigableString"
   ]
  },
  {
   "cell_type": "code",
   "execution_count": 5,
   "metadata": {},
   "outputs": [],
   "source": [
    "with open(\"../data/pages/deathpenaltyinfo.home.html\") as home_page_file:\n",
    "    home_page = home_page_file.read()\n",
    "with open(\"../data/pages/deathpenaltyinfo.page.html\") as page_file:\n",
    "    article_page = page_file.read()"
   ]
  },
  {
   "cell_type": "markdown",
   "metadata": {},
   "source": [
    "The HtmlDiff\n",
    "---------------\n",
    "\n",
    "There is a HtmlDiff class, but it calculates much more than we need and is very inefficient. It's only here for documentating purposes and is not a feasable approach"
   ]
  },
  {
   "cell_type": "code",
   "execution_count": 6,
   "metadata": {},
   "outputs": [],
   "source": [
    "# This approach is very inefficient\n",
    "# differ = HtmlDiff()\n",
    "# with open(\"diff.html\", \"w\") as diff_file:\n",
    "#     diff_file.write(differ.make_file(home_page, page))"
   ]
  },
  {
   "cell_type": "markdown",
   "metadata": {},
   "source": [
    "BeautifulSoup\n",
    "-----------------\n",
    "\n",
    "Now we'll see what we get from hashing beautiful soup strings. It looks very promising and it's far more efficient than HtmlDiff or Tika\n"
   ]
  },
  {
   "cell_type": "code",
   "execution_count": 7,
   "metadata": {},
   "outputs": [],
   "source": [
    "home = BeautifulSoup(home_page)\n",
    "article = BeautifulSoup(article_page)"
   ]
  },
  {
   "cell_type": "code",
   "execution_count": 13,
   "metadata": {},
   "outputs": [],
   "source": [
    "home_contents = set()\n",
    "\n",
    "for el in home.descendants:\n",
    "    if not isinstance(el, NavigableString):\n",
    "        continue\n",
    "    home_contents.add(el.string)"
   ]
  },
  {
   "cell_type": "code",
   "execution_count": 14,
   "metadata": {},
   "outputs": [],
   "source": [
    "article_contents = []\n",
    "\n",
    "for el in article.descendants:\n",
    "    if not isinstance(el, NavigableString):\n",
    "        continue\n",
    "    if el.string not in home_contents:\n",
    "        article_contents.append(el.string)"
   ]
  },
  {
   "cell_type": "code",
   "execution_count": 15,
   "metadata": {},
   "outputs": [
    {
     "data": {
      "text/plain": [
       "['Innocence and the Death Penalty: The Increasing Danger of Executing the Innocent | Death Penalty Information Center',\n",
       " 'Innocence and the Death Penalty: The Increasing Danger of Executing the Innocent',\n",
       " 'by Richard C. Dieter, Esq.',\n",
       " 'Executive Director, Death Penalty Information Center',\n",
       " 'July 1997',\n",
       " 'Table of Contents:',\n",
       " 'Executive Summary',\n",
       " 'Introduction',\n",
       " 'Part I: The Danger of Mistaken Executions',\n",
       " 'Part II: The Cases of Innocence']"
      ]
     },
     "execution_count": 15,
     "metadata": {},
     "output_type": "execute_result"
    }
   ],
   "source": [
    "article_contents[:10]"
   ]
  },
  {
   "cell_type": "code",
   "execution_count": 16,
   "metadata": {},
   "outputs": [
    {
     "data": {
      "text/plain": [
       "['50',\n",
       " 'See id. at 14.',\n",
       " '51',\n",
       " 'See D. Terry, Ex-Prosecutors and Deputies in Death Row Case are Charged with Framing Defendant, The N.Y. Times, Dec. 13, 1996, at A18.',\n",
       " '52',\n",
       " 'See D. Terry, DNA Tests and a Confession Set Three on the Path to Freedom in 1978 Murders, The N. Y. Times, June 15, 1996.',\n",
       " '53',\n",
       " 'See Capital Punishment 1995 (1996), Bureau of Justice Statistics, Appendix Table 1 (5,580 sentenced to death through the end of 1995, with approximately 300 new death sentences per year).',\n",
       " '54',\n",
       " ' M. Radelet, H. Bedau, C. Putnam, In Spite of Innocence 17 (1992).',\n",
       " '55',\n",
       " 'E. Connors et al., Convicted by Juries, Exonerated by Science: Case Studies in the Use of DNA Evidence to Establish Innocence After Trial, U.S. Dept. of Justice Research Report, June 1996, at 33, 44.',\n",
       " '56',\n",
       " ' Id. at xxviii-ix.',\n",
       " '57',\n",
       " 'See note 10 above (Resolution).',\n",
       " 'Back To Top',\n",
       " 'Tweet',\n",
       " '563737 reads',\n",
       " '\\n<!--//--><![CDATA[//><!--\\njQuery.extend(Drupal.settings, {\"basePath\":\"\\\\/\",\"pathPrefix\":\"\",\"ajaxPageState\":{\"theme\":\"dpic\",\"theme_token\":\"zDSPfqMfFohhGlNLVTyZGZwoS-4_q1BeZtByoRP23ec\",\"js\":{\"sites\\\\/all\\\\/modules\\\\/google_cse\\\\/google_cse_results.js\":1,\"misc\\\\/jquery.js\":1,\"misc\\\\/jquery.once.js\":1,\"misc\\\\/drupal.js\":1,\"sites\\\\/all\\\\/modules\\\\/nice_menus\\\\/js\\\\/jquery.bgiframe.js\":1,\"sites\\\\/all\\\\/modules\\\\/nice_menus\\\\/js\\\\/jquery.hoverIntent.js\":1,\"sites\\\\/all\\\\/modules\\\\/nice_menus\\\\/js\\\\/superfish.js\":1,\"sites\\\\/all\\\\/modules\\\\/nice_menus\\\\/js\\\\/nice_menus.js\":1,\"sites\\\\/all\\\\/modules\\\\/google_cse\\\\/google_cse.js\":1,\"sites\\\\/all\\\\/libraries\\\\/colorbox\\\\/jquery.colorbox-min.js\":1,\"sites\\\\/all\\\\/modules\\\\/colorbox\\\\/js\\\\/colorbox.js\":1,\"sites\\\\/all\\\\/modules\\\\/colorbox\\\\/styles\\\\/stockholmsyndrome\\\\/colorbox_style.js\":1,\"sites\\\\/all\\\\/modules\\\\/colorbox\\\\/js\\\\/colorbox_load.js\":1,\"\\\\/\\\\/platform.twitter.com\\\\/widgets.js\":1,\"sites\\\\/all\\\\/modules\\\\/google_analytics\\\\/googleanalytics.js\":1,\"0\":1,\"sites\\\\/all\\\\/themes\\\\/dpic\\\\/js\\\\/sniffer.js\":1,\"sites\\\\/all\\\\/themes\\\\/dpic\\\\/js\\\\/custom.js\":1,\"sites\\\\/all\\\\/themes\\\\/dpic\\\\/js\\\\/style.js\":1},\"css\":{\"modules\\\\/system\\\\/system.base.css\":1,\"modules\\\\/system\\\\/system.menus.css\":1,\"modules\\\\/system\\\\/system.messages.css\":1,\"modules\\\\/system\\\\/system.theme.css\":1,\"modules\\\\/aggregator\\\\/aggregator.css\":1,\"modules\\\\/comment\\\\/comment.css\":1,\"modules\\\\/field\\\\/theme\\\\/field.css\":1,\"sites\\\\/all\\\\/modules\\\\/google_cse\\\\/google_cse.css\":1,\"modules\\\\/node\\\\/node.css\":1,\"modules\\\\/search\\\\/search.css\":1,\"modules\\\\/user\\\\/user.css\":1,\"sites\\\\/all\\\\/modules\\\\/views\\\\/css\\\\/views.css\":1,\"sites\\\\/all\\\\/modules\\\\/ckeditor\\\\/css\\\\/ckeditor.css\":1,\"sites\\\\/all\\\\/modules\\\\/colorbox\\\\/styles\\\\/stockholmsyndrome\\\\/colorbox_style.css\":1,\"sites\\\\/all\\\\/modules\\\\/ctools\\\\/css\\\\/ctools.css\":1,\"sites\\\\/all\\\\/modules\\\\/easy_social\\\\/css\\\\/easy_social.css\":1,\"sites\\\\/all\\\\/modules\\\\/nice_menus\\\\/css\\\\/nice_menus.css\":1,\"sites\\\\/all\\\\/nice_menus_default.css\":1,\"sites\\\\/all\\\\/themes\\\\/dpic\\\\/styles\\\\/html-elements.css\":1,\"sites\\\\/all\\\\/themes\\\\/dpic\\\\/styles\\\\/tabs.css\":1,\"sites\\\\/all\\\\/themes\\\\/dpic\\\\/styles\\\\/layout.css\":1,\"sites\\\\/all\\\\/themes\\\\/dpic\\\\/styles\\\\/dpic.css\":1,\"sites\\\\/all\\\\/themes\\\\/dpic\\\\/styles\\\\/block-editing.css\":1,\"sites\\\\/all\\\\/themes\\\\/dpic\\\\/styles\\\\/print.css\":1}},\"colorbox\":{\"opacity\":\"0.85\",\"current\":\"{current} of {total}\",\"previous\":\"\\\\u00ab Prev\",\"next\":\"Next \\\\u00bb\",\"close\":\"Close\",\"maxWidth\":\"98%\",\"maxHeight\":\"98%\",\"fixed\":true,\"mobiledetect\":true,\"mobiledevicewidth\":\"480px\"},\"googleCSE\":{\"cx\":\"012570281482293667489:invdaedsq3q\",\"language\":\"\",\"resultsWidth\":1024,\"domain\":\"google.com\",\"showWaterMark\":true},\"nice_menus_options\":{\"delay\":\"10\",\"speed\":\"fast\"},\"googleanalytics\":{\"trackOutbound\":1,\"trackMailto\":1,\"trackDownload\":1,\"trackDownloadExtensions\":\"7z|aac|arc|arj|asf|asx|avi|bin|csv|doc(x|m)?|dot(x|m)?|exe|flv|gif|gz|gzip|hqx|jar|jpe?g|js|mp(2|3|4|e?g)|mov(ie)?|msi|msp|pdf|phps|png|ppt(x|m)?|pot(x|m)?|pps(x|m)?|ppam|sld(x|m)?|thmx|qtm?|ra(m|r)?|sea|sit|tar|tgz|torrent|txt|wav|wma|wmv|wpd|xls(x|m|b)?|xlt(x|m)|xlam|xml|z|zip\",\"trackColorbox\":1,\"trackDomainMode\":1},\"urlIsAjaxTrusted\":{\"\\\\/\\\\/google.com\\\\/cse\":true}});\\n//--><!]]>\\n']"
      ]
     },
     "execution_count": 16,
     "metadata": {},
     "output_type": "execute_result"
    }
   ],
   "source": [
    "article_contents[-20:]"
   ]
  },
  {
   "cell_type": "code",
   "execution_count": null,
   "metadata": {},
   "outputs": [],
   "source": []
  }
 ],
 "metadata": {
  "kernelspec": {
   "display_name": "Python [conda env:ml]",
   "language": "python",
   "name": "conda-env-ml-py"
  },
  "language_info": {
   "codemirror_mode": {
    "name": "ipython",
    "version": 3
   },
   "file_extension": ".py",
   "mimetype": "text/x-python",
   "name": "python",
   "nbconvert_exporter": "python",
   "pygments_lexer": "ipython3",
   "version": "3.6.6"
  },
  "varInspector": {
   "cols": {
    "lenName": 16,
    "lenType": 16,
    "lenVar": 40
   },
   "kernels_config": {
    "python": {
     "delete_cmd_postfix": "",
     "delete_cmd_prefix": "del ",
     "library": "var_list.py",
     "varRefreshCmd": "print(var_dic_list())"
    },
    "r": {
     "delete_cmd_postfix": ") ",
     "delete_cmd_prefix": "rm(",
     "library": "var_list.r",
     "varRefreshCmd": "cat(var_dic_list()) "
    }
   },
   "types_to_exclude": [
    "module",
    "function",
    "builtin_function_or_method",
    "instance",
    "_Feature"
   ],
   "window_display": false
  }
 },
 "nbformat": 4,
 "nbformat_minor": 2
}
